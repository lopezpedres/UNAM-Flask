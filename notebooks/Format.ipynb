{
 "cells": [
  {
   "cell_type": "markdown",
   "metadata": {},
   "source": [
    "# Creating the  Data Frame"
   ]
  },
  {
   "cell_type": "code",
   "execution_count": 33,
   "metadata": {},
   "outputs": [],
   "source": [
    "import pandas as pd\n",
    "import matplotlib.pyplot as plt\n",
    "import numpy as np\n",
    "import re\n",
    "import seaborn as sns"
   ]
  },
  {
   "cell_type": "code",
   "execution_count": 3,
   "metadata": {},
   "outputs": [
    {
     "data": {
      "text/html": [
       "<div>\n",
       "<style scoped>\n",
       "    .dataframe tbody tr th:only-of-type {\n",
       "        vertical-align: middle;\n",
       "    }\n",
       "\n",
       "    .dataframe tbody tr th {\n",
       "        vertical-align: top;\n",
       "    }\n",
       "\n",
       "    .dataframe thead th {\n",
       "        text-align: right;\n",
       "    }\n",
       "</style>\n",
       "<table border=\"1\" class=\"dataframe\">\n",
       "  <thead>\n",
       "    <tr style=\"text-align: right;\">\n",
       "      <th></th>\n",
       "      <th>Folio</th>\n",
       "      <th>Program</th>\n",
       "      <th>Score</th>\n",
       "    </tr>\n",
       "  </thead>\n",
       "  <tbody>\n",
       "    <tr>\n",
       "      <th>0</th>\n",
       "      <td>52</td>\n",
       "      <td>Febrero 2020 : (101)  ACTUARIA-FACULTAD DE CIE...</td>\n",
       "      <td>('106', '')</td>\n",
       "    </tr>\n",
       "    <tr>\n",
       "      <th>1</th>\n",
       "      <td>64</td>\n",
       "      <td>Febrero 2020 : (101)  ACTUARIA-FACULTAD DE CIE...</td>\n",
       "      <td>('81', '')</td>\n",
       "    </tr>\n",
       "    <tr>\n",
       "      <th>2</th>\n",
       "      <td>123</td>\n",
       "      <td>Febrero 2020 : (101)  ACTUARIA-FACULTAD DE CIE...</td>\n",
       "      <td>('77', '')</td>\n",
       "    </tr>\n",
       "    <tr>\n",
       "      <th>3</th>\n",
       "      <td>125</td>\n",
       "      <td>Febrero 2020 : (101)  ACTUARIA-FACULTAD DE CIE...</td>\n",
       "      <td>('999', 'N')</td>\n",
       "    </tr>\n",
       "    <tr>\n",
       "      <th>4</th>\n",
       "      <td>129</td>\n",
       "      <td>Febrero 2020 : (101)  ACTUARIA-FACULTAD DE CIE...</td>\n",
       "      <td>('59', '')</td>\n",
       "    </tr>\n",
       "  </tbody>\n",
       "</table>\n",
       "</div>"
      ],
      "text/plain": [
       "   Folio                                            Program         Score\n",
       "0     52  Febrero 2020 : (101)  ACTUARIA-FACULTAD DE CIE...   ('106', '')\n",
       "1     64  Febrero 2020 : (101)  ACTUARIA-FACULTAD DE CIE...    ('81', '')\n",
       "2    123  Febrero 2020 : (101)  ACTUARIA-FACULTAD DE CIE...    ('77', '')\n",
       "3    125  Febrero 2020 : (101)  ACTUARIA-FACULTAD DE CIE...  ('999', 'N')\n",
       "4    129  Febrero 2020 : (101)  ACTUARIA-FACULTAD DE CIE...    ('59', '')"
      ]
     },
     "execution_count": 3,
     "metadata": {},
     "output_type": "execute_result"
    }
   ],
   "source": [
    "# Need to stack my data so I can see the \"Programs\" in a column, is going to give a series\n",
    "df = pd.read_csv(\"UNAMdata2020.csv\", index_col = 0, low_memory =False).stack()\n",
    "# If we wouldn´t change the blank to \"999\" in \"Pulling and Cleaning\" program we would have needed to to this:\n",
    "        #st = type(\"str\")\n",
    "        #df = df.applymap(lambda x: \"999\" if isinstance(x, st) and x.isspace() else x)\n",
    "# Need to create a df with my series object and add the columns\n",
    "df = pd.DataFrame(df).reset_index() \n",
    "df.columns = [\"Folio\", \"Program\", \"Score\"]\n",
    "df.head()"
   ]
  },
  {
   "cell_type": "code",
   "execution_count": 17,
   "metadata": {},
   "outputs": [
    {
     "data": {
      "text/plain": [
       "array(['Febrero 2018 : (101) ACTUARIA-FACULTAD DE CIENCIAS-Oferta=40-Minimos=106',\n",
       "       'Febrero 2018 : (101) ACTUARIA-FES ACATLAN-Oferta=36-Minimos=95',\n",
       "       'Febrero 2018 : (102) ARQUITECTURA-FACULTAD DE ARQUITECTURA-Oferta=190-Minimos=92',\n",
       "       'Febrero 2018 : (102) ARQUITECTURA-FES ACATLAN-Oferta=62-Minimos=79',\n",
       "       'Febrero 2018 : (102) ARQUITECTURA-FES ARAGON-Oferta=60-Minimos=79',\n",
       "       'Febrero 2018 : (103) ARQUITECTURA DE PAISAJE-FACULTAD DE ARQUITECTURA-Oferta=15-Minimos=86',\n",
       "       'Febrero 2018 : (104) CIENCIAS DE LA COMPUTACION-FACULTAD DE CIENCIAS-Oferta=20-Minimos=105',\n",
       "       'Febrero 2018 : (105) DISEÑO INDUSTRIAL-FES ARAGON-Oferta=15-Minimos=86',\n",
       "       'Febrero 2018 : (106) FISICA-FACULTAD DE CIENCIAS-Oferta=72-Minimos=108',\n",
       "       'Febrero 2018 : (107) INGENIERIA CIVIL-FACULTAD DE INGENIERIA-Oferta=98-Minimos=90',\n",
       "       'Febrero 2018 : (107) INGENIERIA CIVIL-FES ACATLAN-Oferta=72-Minimos=73',\n",
       "       'Febrero 2018 : (107) INGENIERIA CIVIL-FES ARAGON-Oferta=95-Minimos=73',\n",
       "       'Febrero 2018 : (108) INGENIERIA DE MINAS Y METALURGIA-FACULTAD DE INGENIERIA-Oferta=15-Minimos=95',\n",
       "       'Febrero 2018 : (109) INGENIERIA ELECTRICA ELECTRONICA-FACULTAD DE INGENIERIA-Oferta=76-Minimos=98',\n",
       "       'Febrero 2018 : (109) INGENIERIA ELECTRICA ELECTRONICA-FES ARAGON-Oferta=42-Minimos=78',\n",
       "       'Febrero 2018 : (110) INGENIERIA EN COMPUTACION-FACULTAD DE INGENIERIA-Oferta=86-Minimos=95',\n",
       "       'Febrero 2018 : (110) INGENIERIA EN COMPUTACION-FES ARAGON-Oferta=50-Minimos=83',\n",
       "       'Febrero 2018 : (112) INGENIERIA GEOFISICA-FACULTAD DE INGENIERIA-Oferta=14-Minimos=95',\n",
       "       'Febrero 2018 : (113) INGENIERIA GEOLOGICA-FACULTAD DE INGENIERIA-Oferta=20-Minimos=90',\n",
       "       'Febrero 2018 : (114) INGENIERIA INDUSTRIAL-FACULTAD DE INGENIERIA-Oferta=45-Minimos=98',\n",
       "       'Febrero 2018 : (114) INGENIERIA INDUSTRIAL-FES CUAUTITLAN-Oferta=25-Minimos=82',\n",
       "       'Febrero 2018 : (114) INGENIERIA INDUSTRIAL-FES ARAGON-Oferta=34-Minimos=83',\n",
       "       'Febrero 2018 : (115) INGENIERIA MECANICA-FACULTAD DE INGENIERIA-Oferta=46-Minimos=103',\n",
       "       'Febrero 2018 : (115) INGENIERIA MECANICA-FES ARAGON-Oferta=26-Minimos=82',\n",
       "       'Febrero 2018 : (116) INGENIERIA MECANICA ELECTRICA-FES CUAUTITLAN-Oferta=76-Minimos=76',\n",
       "       'Febrero 2018 : (117) INGENIERIA PETROLERA-FACULTAD DE INGENIERIA-Oferta=42-Minimos=85',\n",
       "       'Febrero 2018 : (118) INGENIERIA QUIMICA-FACULTAD DE QUIMICA-Oferta=30-Minimos=104',\n",
       "       'Febrero 2018 : (118) INGENIERIA QUIMICA-FES CUAUTITLAN-Oferta=46-Minimos=81',\n",
       "       'Febrero 2018 : (118) INGENIERIA QUIMICA-FES ZARAGOZA-Oferta=80-Minimos=77',\n",
       "       'Febrero 2018 : (119) INGENIERIA QUIMICA METALURGICA-FACULTAD DE QUIMICA-Oferta=20-Minimos=91',\n",
       "       'Febrero 2018 : (120) INGENIERIA GEOMATICA-FACULTAD DE INGENIERIA-Oferta=15-Minimos=82',\n",
       "       'Febrero 2018 : (121) MATEMATICAS APLICADAS Y COMPUTACION-FES ACATLAN-Oferta=170-Minimos=64',\n",
       "       'Febrero 2018 : (122) MATEMATICAS-FACULTAD DE CIENCIAS-Oferta=82-Minimos=97',\n",
       "       'Febrero 2018 : (127) CIENCIAS DE LA TIERRA-FACULTAD DE CIENCIAS-Oferta=20-Minimos=100',\n",
       "       'Febrero 2018 : (127) CIENCIAS DE LA TIERRA-UMDI, JURIQUILLA, QRO.-Oferta=18-Minimos=75',\n",
       "       'Febrero 2018 : (130) ING. EN TELECOMUNICACIONES, SISTEMAS Y ELECTRONICA-FES CUAUTITLAN-Oferta=60-Minimos=76',\n",
       "       'Febrero 2018 : (131) GEOCIENCIAS-ESCUELA NACIONAL DE ESTUDIOS SUP. UNIDAD MORELIA-Oferta=23-Minimos=76',\n",
       "       'Febrero 2018 : (132) TECNOLOGIAS PARA LA INFORMACION EN CIENCIAS-ESCUELA NACIONAL DE ESTUDIOS SUP. UNIDAD MORELIA-Oferta=26-Minimos=60',\n",
       "       'Febrero 2018 : (133) CIENCIA DE MATERIALES SUSTENTABLES-ESCUELA NACIONAL DE ESTUDIOS SUP. UNIDAD MORELIA-Oferta=26-Minimos=80',\n",
       "       'Febrero 2018 : (134) FISICA BIOMEDICA-FACULTAD DE CIENCIAS-Oferta=10-Minimos=103',\n",
       "       'Febrero 2018 : (136) MATEMATICAS APLICADAS-FACULTAD DE CIENCIAS-Oferta=23-Minimos=100',\n",
       "       'Febrero 2018 : (201) BIOLOGIA-FACULTAD DE CIENCIAS-Oferta=94-Minimos=96',\n",
       "       'Febrero 2018 : (201) BIOLOGIA-FES IZTACALA-Oferta=71-Minimos=84',\n",
       "       'Febrero 2018 : (201) BIOLOGIA-FES ZARAGOZA-Oferta=70-Minimos=82',\n",
       "       'Febrero 2018 : (201) BIOLOGIA-TLAXCALA-Oferta=20-Minimos=60',\n",
       "       'Febrero 2018 : (202) CIRUJANO DENTISTA-FACULTAD DE ODONTOLOGIA-Oferta=91-Minimos=85',\n",
       "       'Febrero 2018 : (202) CIRUJANO DENTISTA-FES IZTACALA-Oferta=90-Minimos=77',\n",
       "       'Febrero 2018 : (202) CIRUJANO DENTISTA-FES ZARAGOZA-Oferta=70-Minimos=79',\n",
       "       'Febrero 2018 : (203) ENFERMERIA Y OBSTETRICIA-ESCUELA NACIONAL DE ENFERMERIA Y OBSTETRICIA-Oferta=52-Minimos=82',\n",
       "       'Febrero 2018 : (204) INGENIERIA AGRICOLA-FES CUAUTITLAN-Oferta=75-Minimos=67',\n",
       "       'Febrero 2018 : (205) INGENIERIA EN ALIMENTOS-FES CUAUTITLAN-Oferta=86-Minimos=67',\n",
       "       'Febrero 2018 : (207) MEDICINA VETERINARIA Y ZOOTECNIA-FACULTAD DE MEDICINA VETERINARIA Y ZOOTECNIA-Oferta=65-Minimos=95',\n",
       "       'Febrero 2018 : (207) MEDICINA VETERINARIA Y ZOOTECNIA-FES CUAUTITLAN-Oferta=84-Minimos=83',\n",
       "       'Febrero 2018 : (208) MEDICO CIRUJANO-FACULTAD DE MEDICINA-Oferta=145-Minimos=108',\n",
       "       'Febrero 2018 : (208) MEDICO CIRUJANO-FES IZTACALA-Oferta=82-Minimos=103',\n",
       "       'Febrero 2018 : (208) MEDICO CIRUJANO-FES ZARAGOZA-Oferta=38-Minimos=103',\n",
       "       'Febrero 2018 : (209) OPTOMETRIA-FES IZTACALA-Oferta=25-Minimos=75',\n",
       "       'Febrero 2018 : (209) OPTOMETRIA-ESCUELA NACIONAL DE ESTUDIOS SUP. UNIDAD LEON-Oferta=15-Minimos=66',\n",
       "       'Febrero 2018 : (210) PSICOLOGIA-FACULTAD DE PSICOLOGIA-Oferta=55-Minimos=98',\n",
       "       'Febrero 2018 : (210) PSICOLOGIA-FES IZTACALA-Oferta=82-Minimos=78',\n",
       "       'Febrero 2018 : (210) PSICOLOGIA-FES ZARAGOZA-Oferta=75-Minimos=77',\n",
       "       'Febrero 2018 : (210) PSICOLOGIA-TLAXCALA-Oferta=14-Minimos=49',\n",
       "       'Febrero 2018 : (211) QUIMICA-FACULTAD DE QUIMICA-Oferta=20-Minimos=106',\n",
       "       'Febrero 2018 : (211) QUIMICA-FES CUAUTITLAN-Oferta=26-Minimos=80',\n",
       "       'Febrero 2018 : (212) QUIMICA DE ALIMENTOS-FACULTAD DE QUIMICA-Oferta=30-Minimos=96',\n",
       "       'Febrero 2018 : (213) QUIMICA FARMACEUTICO BIOLOGICA-FACULTAD DE QUIMICA-Oferta=42-Minimos=101',\n",
       "       'Febrero 2018 : (213) QUIMICA FARMACEUTICO BIOLOGICA-FES ZARAGOZA-Oferta=35-Minimos=91',\n",
       "       'Febrero 2018 : (214) QUIMICA INDUSTRIAL-FES CUAUTITLAN-Oferta=40-Minimos=77',\n",
       "       'Febrero 2018 : (216) CIENCIAS AMBIENTALES-ESCUELA NACIONAL DE ESTUDIOS SUP. UNIDAD MORELIA-Oferta=65-Minimos=63',\n",
       "       'Febrero 2018 : (216) CIENCIAS AMBIENTALES-ESCUELA NACIONAL DE ESTUDIOS SUP. UNIDAD MERIDA-Oferta=12-Minimos=55',\n",
       "       'Febrero 2018 : (217) MANEJO SUSTENTABLE DE ZONAS COSTERAS-ESCUELA NACIONAL DE ESTUDIOS SUP. UNIDAD MERIDA-Oferta=12-Minimos=63',\n",
       "       'Febrero 2018 : (218) BIOQUIMICA DIAGNOSTICA-FES CUAUTITLAN-Oferta=15-Minimos=98',\n",
       "       'Febrero 2018 : (219) FARMACIA-FES CUAUTITLAN-Oferta=52-Minimos=71',\n",
       "       'Febrero 2018 : (220) ENFERMERIA-ESCUELA NACIONAL DE ENFERMERIA Y OBSTETRICIA-Oferta=82-Minimos=73',\n",
       "       'Febrero 2018 : (220) ENFERMERIA-FES IZTACALA-Oferta=98-Minimos=70',\n",
       "       'Febrero 2018 : (220) ENFERMERIA-FES ZARAGOZA-Oferta=100-Minimos=75',\n",
       "       'Febrero 2018 : (220) ENFERMERIA-TLAXCALA-Oferta=34-Minimos=46',\n",
       "       'Febrero 2018 : (221) FISIOTERAPIA-ESCUELA NACIONAL DE ESTUDIOS SUP. UNIDAD LEON-Oferta=52-Minimos=78',\n",
       "       'Febrero 2018 : (222) ODONTOLOGIA-ESCUELA NACIONAL DE ESTUDIOS SUP. UNIDAD LEON-Oferta=60-Minimos=74',\n",
       "       'Febrero 2018 : (301) ADMINISTRACION-FACULTAD DE CONTADURIA Y ADMINISTRACION-Oferta=290-Minimos=90',\n",
       "       'Febrero 2018 : (301) ADMINISTRACION-FES CUAUTITLAN-Oferta=155-Minimos=74',\n",
       "       'Febrero 2018 : (302) CIENCIAS DE LA COMUNICACION-FACULTAD DE CIENCIAS POLITICAS Y SOCIALES-Oferta=62-Minimos=99',\n",
       "       'Febrero 2018 : (303) CIENCIAS POLITICAS Y ADMON PUBLICA-FACULTAD DE CIENCIAS POLITICAS Y SOCIALES-Oferta=40-Minimos=97',\n",
       "       'Febrero 2018 : (303) CIENCIAS POLITICAS Y ADMON PUBLICA-FES ACATLAN-Oferta=40-Minimos=84',\n",
       "       'Febrero 2018 : (304) CONTADURIA-FACULTAD DE CONTADURIA Y ADMINISTRACION-Oferta=400-Minimos=85',\n",
       "       'Febrero 2018 : (304) CONTADURIA-FES CUAUTITLAN-Oferta=180-Minimos=72',\n",
       "       'Febrero 2018 : (305) DERECHO-FACULTAD DE DERECHO-Oferta=230-Minimos=96',\n",
       "       'Febrero 2018 : (305) DERECHO-FES ACATLAN-Oferta=125-Minimos=81',\n",
       "       'Febrero 2018 : (305) DERECHO-FES ARAGON-Oferta=168-Minimos=82',\n",
       "       'Febrero 2018 : (306) ECONOMIA-FACULTAD DE ECONOMIA-Oferta=310-Minimos=86',\n",
       "       'Febrero 2018 : (306) ECONOMIA-FES ACATLAN-Oferta=90-Minimos=77',\n",
       "       'Febrero 2018 : (306) ECONOMIA-FES ARAGON-Oferta=88-Minimos=80',\n",
       "       'Febrero 2018 : (307) GEOGRAFIA-FACULTAD DE FILOSOFIA Y LETRAS-Oferta=25-Minimos=86',\n",
       "       'Febrero 2018 : (308) INFORMATICA-FES CUAUTITLAN-Oferta=70-Minimos=65',\n",
       "       'Febrero 2018 : (309) PLANIF PARA EL DESARROLLO AGROPECUARIO-FES ARAGON-Oferta=61-Minimos=58',\n",
       "       'Febrero 2018 : (310) RELACIONES INTERNACIONALES-FACULTAD DE CIENCIAS POLITICAS Y SOCIALES-Oferta=40-Minimos=102',\n",
       "       'Febrero 2018 : (310) RELACIONES INTERNACIONALES-FES ACATLAN-Oferta=35-Minimos=91',\n",
       "       'Febrero 2018 : (310) RELACIONES INTERNACIONALES-FES ARAGON-Oferta=40-Minimos=94',\n",
       "       'Febrero 2018 : (311) SOCIOLOGIA-FACULTAD DE CIENCIAS POLITICAS Y SOCIALES-Oferta=42-Minimos=87',\n",
       "       'Febrero 2018 : (311) SOCIOLOGIA-FES ACATLAN-Oferta=22-Minimos=74',\n",
       "       'Febrero 2018 : (311) SOCIOLOGIA-FES ARAGON-Oferta=17-Minimos=80',\n",
       "       'Febrero 2018 : (312) TRABAJO SOCIAL-ESCUELA NACIONAL DE TRABAJO SOCIAL-Oferta=192-Minimos=67',\n",
       "       'Febrero 2018 : (313) ECONOMIA INDUSTRIAL-ESCUELA NACIONAL DE ESTUDIOS SUP. UNIDAD LEON-Oferta=27-Minimos=85',\n",
       "       'Febrero 2018 : (314) ADMINISTRACION AGROPECUARIA-ESCUELA NACIONAL DE ESTUDIOS SUP. UNIDAD LEON-Oferta=22-Minimos=42',\n",
       "       'Febrero 2018 : (315) COMUNICACION-FES ACATLAN-Oferta=52-Minimos=90',\n",
       "       'Febrero 2018 : (316) COMUNICACION Y PERIODISMO-FES ARAGON-Oferta=86-Minimos=83',\n",
       "       'Febrero 2018 : (317) ESTUDIOS SOCIALES Y GESTION LOCAL-ESCUELA NACIONAL DE ESTUDIOS SUP. UNIDAD MORELIA-Oferta=25-Minimos=51',\n",
       "       'Febrero 2018 : (318) DESARROLLO COMUNITARIO PARA EL ENVEJECIMIENTO-TLAXCALA-Oferta=30-Minimos=41',\n",
       "       'Febrero 2018 : (319) ANTROPOLOGIA-FACULTAD DE CIENCIAS POLITICAS Y SOCIALES-Oferta=68-Minimos=88',\n",
       "       'Febrero 2018 : (320) DESARROLLO TERRITORIAL-ESCUELA NACIONAL DE ESTUDIOS SUP. UNIDAD LEON-Oferta=22-Minimos=58',\n",
       "       'Febrero 2018 : (401) ARTES VISUALES-FACULTAD DE ARTES Y DISEÑO-Oferta=20-Minimos=103',\n",
       "       'Febrero 2018 : (402) BIBLIOTECOLOGIA Y ESTUDIOS DE LA INFORMACION-FACULTAD DE FILOSOFIA Y LETRAS-Oferta=30-Minimos=70',\n",
       "       'Febrero 2018 : (403) CANTO-FACULTAD DE MUSICA-Oferta=15-Minimos=64',\n",
       "       'Febrero 2018 : (404) COMPOSICION-FACULTAD DE MUSICA-Oferta=15-Minimos=73',\n",
       "       'Febrero 2018 : (405) DISEÑO Y COMUNICACION VISUAL-FACULTAD DE ARTES Y DISEÑO-Oferta=40-Minimos=102',\n",
       "       'Febrero 2018 : (405) DISEÑO Y COMUNICACION VISUAL-FES CUAUTITLAN-Oferta=16-Minimos=95',\n",
       "       'Febrero 2018 : (406) DISEÑO GRAFICO-FES ACATLAN-Oferta=25-Minimos=91',\n",
       "       'Febrero 2018 : (407) EDUCACION MUSICAL-FACULTAD DE MUSICA-Oferta=21-Minimos=56',\n",
       "       'Febrero 2018 : (408) ENSEÑANZA DE INGLES-FES ACATLAN-Oferta=66-Minimos=67',\n",
       "       'Febrero 2018 : (409) ESTUDIOS LATINOAMERICANOS-FACULTAD DE FILOSOFIA Y LETRAS-Oferta=16-Minimos=89',\n",
       "       'Febrero 2018 : (410) ETNOMUSICOLOGIA-FACULTAD DE MUSICA-Oferta=10-Minimos=59',\n",
       "       'Febrero 2018 : (411) FILOSOFIA-FACULTAD DE FILOSOFIA Y LETRAS-Oferta=26-Minimos=99',\n",
       "       'Febrero 2018 : (411) FILOSOFIA-FES ACATLAN-Oferta=20-Minimos=78',\n",
       "       'Febrero 2018 : (412) HISTORIA-FACULTAD DE FILOSOFIA Y LETRAS-Oferta=20-Minimos=95',\n",
       "       'Febrero 2018 : (412) HISTORIA-FES ACATLAN-Oferta=22-Minimos=88',\n",
       "       'Febrero 2018 : (413) INSTRUMENTISTA-FACULTAD DE MUSICA-Oferta=60-Minimos=58',\n",
       "       'Febrero 2018 : (414) LENGUA Y LITERATURAS HISPANICAS-FACULTAD DE FILOSOFIA Y LETRAS-Oferta=26-Minimos=101',\n",
       "       'Febrero 2018 : (414) LENGUA Y LITERATURAS HISPANICAS-FES ACATLAN-Oferta=10-Minimos=97',\n",
       "       'Febrero 2018 : (415) LENGUA Y LITERATURAS MODERNAS (LETRAS ALEMANAS)-FACULTAD DE FILOSOFIA Y LETRAS-Oferta=15-Minimos=51',\n",
       "       'Febrero 2018 : (416) LENGUA Y LITERATURAS MODERNAS (LETRAS FRANCESAS)-FACULTAD DE FILOSOFIA Y LETRAS-Oferta=25-Minimos=44',\n",
       "       'Febrero 2018 : (417) LENGUA Y LITERATURAS MODERNAS (LETRAS INGLESAS)-FACULTAD DE FILOSOFIA Y LETRAS-Oferta=80-Minimos=76',\n",
       "       'Febrero 2018 : (418) LENGUA Y LITERATURAS MODERNAS (LETRAS ITALIANAS)-FACULTAD DE FILOSOFIA Y LETRAS-Oferta=15-Minimos=70',\n",
       "       'Febrero 2018 : (419) LETRAS CLASICAS-FACULTAD DE FILOSOFIA Y LETRAS-Oferta=10-Minimos=93',\n",
       "       'Febrero 2018 : (420) LITERATURA DRAMATICA Y TEATRO-FACULTAD DE FILOSOFIA Y LETRAS-Oferta=16-Minimos=100',\n",
       "       'Febrero 2018 : (421) PEDAGOGIA-FACULTAD DE FILOSOFIA Y LETRAS-Oferta=62-Minimos=80',\n",
       "       'Febrero 2018 : (421) PEDAGOGIA-FES ACATLAN-Oferta=30-Minimos=80',\n",
       "       'Febrero 2018 : (421) PEDAGOGIA-FES ARAGON-Oferta=62-Minimos=77',\n",
       "       'Febrero 2018 : (422) PIANO-FACULTAD DE MUSICA-Oferta=20-Minimos=65',\n",
       "       'Febrero 2018 : (429) DESARROLLO Y GESTION INTERCULTURALES-FACULTAD DE FILOSOFIA Y LETRAS-Oferta=10-Minimos=97',\n",
       "       'Febrero 2018 : (429) DESARROLLO Y GESTION INTERCULTURALES-CENTRO PENINSULAR EN HUMANIDADES Y CIENCIAS SOCIALES-Oferta=10-Minimos=67',\n",
       "       'Febrero 2018 : (429) DESARROLLO Y GESTION INTERCULTURALES-ESCUELA NACIONAL DE ESTUDIOS SUP. UNIDAD LEON-Oferta=22-Minimos=44',\n",
       "       'Febrero 2018 : (430) LENGUA Y LITERATURAS MODERNAS (LETRAS PORTUGUESAS)-FACULTAD DE FILOSOFIA Y LETRAS-Oferta=12-Minimos=62',\n",
       "       'Febrero 2018 : (431) GEOHISTORIA-ESCUELA NACIONAL DE ESTUDIOS SUP. UNIDAD MORELIA-Oferta=18-Minimos=54',\n",
       "       'Febrero 2018 : (432) LITERATURA INTERCULTURAL-ESCUELA NACIONAL DE ESTUDIOS SUP. UNIDAD MORELIA-Oferta=25-Minimos=66',\n",
       "       'Febrero 2018 : (433) HISTORIA DEL ARTE-ESCUELA NACIONAL DE ESTUDIOS SUP. UNIDAD MORELIA-Oferta=23-Minimos=66',\n",
       "       'Febrero 2018 : (434) ARTE Y DISEÑO-ESCUELA NACIONAL DE ESTUDIOS SUP. UNIDAD MORELIA-Oferta=19-Minimos=87',\n",
       "       'Febrero 2018 : (436) TEATRO Y ACTUACION-FACULTAD DE MUSICA-Oferta=150-Minimos=74',\n",
       "       'Febrero 2018 : (437) ADMINISTRACION DE ARCHIVOS Y GESTION DOCUMENTAL-ESCUELA NACIONAL DE ESTUDIOS SUP. UNIDAD MORELIA-Oferta=15-Minimos=43',\n",
       "       'Febrero 2018 : (438) MUSICA Y TECNOLOGIA ARTISTICA-ESCUELA NACIONAL DE ESTUDIOS SUP. UNIDAD MORELIA-Oferta=18-Minimos=81',\n",
       "       'Febrero 2018 : (439) LINGÜISTICA APLICADA-ESCUELA NACIONAL DE LENGUAS,LINGUISTICA Y TRADUCCIÓN-Oferta=12-Minimos=87',\n",
       "       'Febrero 2018 : (440) TRADUCCION-ESCUELA NACIONAL DE LENGUAS,LINGUISTICA Y TRADUCCI�N-Oferta=12-Minimos=108',\n",
       "       'Junio 2018 : (101) ACTUARIA-FACULTAD DE CIENCIAS-Oferta=17-Minimos=107',\n",
       "       'Junio 2018 : (101) ACTUARIA-FES ACATLAN-Oferta=12-Minimos=102',\n",
       "       'Junio 2018 : (102) ARQUITECTURA-FACULTAD DE ARQUITECTURA-Oferta=64-Minimos=95',\n",
       "       'Junio 2018 : (102) ARQUITECTURA-FES ACATLAN-Oferta=18-Minimos=84',\n",
       "       'Junio 2018 : (102) ARQUITECTURA-FES ARAGON-Oferta=30-Minimos=83',\n",
       "       'Junio 2018 : (103) ARQUITECTURA DE PAISAJE-FACULTAD DE ARQUITECTURA-Oferta=10-Minimos=86',\n",
       "       'Junio 2018 : (104) CIENCIAS DE LA COMPUTACION-FACULTAD DE CIENCIAS-Oferta=10-Minimos=108',\n",
       "       'Junio 2018 : (105) DISEÑO INDUSTRIAL-FES ARAGON-Oferta=5-Minimos=94',\n",
       "       'Junio 2018 : (106) FISICA-FACULTAD DE CIENCIAS-Oferta=9-Minimos=113',\n",
       "       'Junio 2018 : (107) INGENIERIA CIVIL-FACULTAD DE INGENIERIA-Oferta=28-Minimos=99',\n",
       "       'Junio 2018 : (107) INGENIERIA CIVIL-FES ACATLAN-Oferta=24-Minimos=81',\n",
       "       'Junio 2018 : (107) INGENIERIA CIVIL-FES ARAGON-Oferta=44-Minimos=78',\n",
       "       'Junio 2018 : (108) INGENIERIA DE MINAS Y METALURGIA-FACULTAD DE INGENIERIA-Oferta=5-Minimos=93',\n",
       "       'Junio 2018 : (109) INGENIERIA ELECTRICA ELECTRONICA-FACULTAD DE INGENIERIA-Oferta=37-Minimos=100',\n",
       "       'Junio 2018 : (109) INGENIERIA ELECTRICA ELECTRONICA-FES ARAGON-Oferta=15-Minimos=90',\n",
       "       'Junio 2018 : (110) INGENIERIA EN COMPUTACION-FACULTAD DE INGENIERIA-Oferta=30-Minimos=99',\n",
       "       'Junio 2018 : (110) INGENIERIA EN COMPUTACION-FES ARAGON-Oferta=20-Minimos=89',\n",
       "       'Junio 2018 : (112) INGENIERIA GEOFISICA-FACULTAD DE INGENIERIA-Oferta=7-Minimos=97',\n",
       "       'Junio 2018 : (113) INGENIERIA GEOLOGICA-FACULTAD DE INGENIERIA-Oferta=8-Minimos=86',\n",
       "       'Junio 2018 : (114) INGENIERIA INDUSTRIAL-FACULTAD DE INGENIERIA-Oferta=24-Minimos=101',\n",
       "       'Junio 2018 : (114) INGENIERIA INDUSTRIAL-FES CUAUTITLAN-Oferta=15-Minimos=81',\n",
       "       'Junio 2018 : (114) INGENIERIA INDUSTRIAL-FES ARAGON-Oferta=16-Minimos=88',\n",
       "       'Junio 2018 : (115) INGENIERIA MECANICA-FACULTAD DE INGENIERIA-Oferta=14-Minimos=106',\n",
       "       'Junio 2018 : (115) INGENIERIA MECANICA-FES ARAGON-Oferta=12-Minimos=93',\n",
       "       'Junio 2018 : (116) INGENIERIA MECANICA ELECTRICA-FES CUAUTITLAN-Oferta=29-Minimos=78',\n",
       "       'Junio 2018 : (117) INGENIERIA PETROLERA-FACULTAD DE INGENIERIA-Oferta=18-Minimos=93',\n",
       "       'Junio 2018 : (118) INGENIERIA QUIMICA-FACULTAD DE QUIMICA-Oferta=23-Minimos=103',\n",
       "       'Junio 2018 : (118) INGENIERIA QUIMICA-FES CUAUTITLAN-Oferta=11-Minimos=90',\n",
       "       'Junio 2018 : (118) INGENIERIA QUIMICA-FES ZARAGOZA-Oferta=33-Minimos=86',\n",
       "       'Junio 2018 : (119) INGENIERIA QUIMICA METALURGICA-FACULTAD DE QUIMICA-Oferta=6-Minimos=99',\n",
       "       'Junio 2018 : (120) INGENIERIA GEOMATICA-FACULTAD DE INGENIERIA-Oferta=6-Minimos=96',\n",
       "       'Junio 2018 : (121) MATEMATICAS APLICADAS Y COMPUTACION-FES ACATLAN-Oferta=75-Minimos=73',\n",
       "       'Junio 2018 : (122) MATEMATICAS-FACULTAD DE CIENCIAS-Oferta=35-Minimos=104',\n",
       "       'Junio 2018 : (127) CIENCIAS DE LA TIERRA-FACULTAD DE CIENCIAS-Oferta=9-Minimos=97',\n",
       "       'Junio 2018 : (127) CIENCIAS DE LA TIERRA-ESCUELA NACIONAL DE ESTUDIOS SUP. UNIDAD JURIQUILLA-Oferta=6-Minimos=89',\n",
       "       'Junio 2018 : (127) CIENCIAS DE LA TIERRA-ESCUELA NACIONAL DE ESTUDIOS SUP. UNIDAD MERIDA-Oferta=20-Minimos=47',\n",
       "       'Junio 2018 : (130) ING. EN TELECOMUNICACIONES, SISTEMAS Y ELECTRONICA-FES CUAUTITLAN-Oferta=27-Minimos=75',\n",
       "       'Junio 2018 : (131) GEOCIENCIAS-ESCUELA NACIONAL DE ESTUDIOS SUP. UNIDAD MORELIA-Oferta=10-Minimos=81',\n",
       "       'Junio 2018 : (132) TECNOLOGIAS PARA LA INFORMACION EN CIENCIAS-ESCUELA NACIONAL DE ESTUDIOS SUP. UNIDAD MORELIA-Oferta=11-Minimos=59',\n",
       "       'Junio 2018 : (133) CIENCIA DE MATERIALES SUSTENTABLES-ESCUELA NACIONAL DE ESTUDIOS SUP. UNIDAD MORELIA-Oferta=12-Minimos=71',\n",
       "       'Junio 2018 : (134) FISICA BIOMEDICA-FACULTAD DE CIENCIAS-Oferta=5-Minimos=109',\n",
       "       'Junio 2018 : (136) MATEMATICAS APLICADAS-FACULTAD DE CIENCIAS-Oferta=10-Minimos=104',\n",
       "       'Junio 2018 : (201) BIOLOGIA-FACULTAD DE CIENCIAS-Oferta=26-Minimos=103',\n",
       "       'Junio 2018 : (201) BIOLOGIA-FES IZTACALA-Oferta=33-Minimos=89',\n",
       "       'Junio 2018 : (201) BIOLOGIA-FES ZARAGOZA-Oferta=30-Minimos=85',\n",
       "       'Junio 2018 : (201) BIOLOGIA-TLAXCALA-Oferta=10-Minimos=66',\n",
       "       'Junio 2018 : (202) CIRUJANO DENTISTA-FACULTAD DE ODONTOLOGIA-Oferta=17-Minimos=97',\n",
       "       'Junio 2018 : (202) CIRUJANO DENTISTA-FES IZTACALA-Oferta=35-Minimos=87',\n",
       "       'Junio 2018 : (202) CIRUJANO DENTISTA-FES ZARAGOZA-Oferta=25-Minimos=88',\n",
       "       'Junio 2018 : (203) ENFERMERIA Y OBSTETRICIA-ESCUELA NACIONAL DE ENFERMERIA Y OBSTETRICIA-Oferta=15-Minimos=95',\n",
       "       'Junio 2018 : (204) INGENIERIA AGRICOLA-FES CUAUTITLAN-Oferta=29-Minimos=75',\n",
       "       'Junio 2018 : (205) INGENIERIA EN ALIMENTOS-FES CUAUTITLAN-Oferta=30-Minimos=79',\n",
       "       'Junio 2018 : (207) MEDICINA VETERINARIA Y ZOOTECNIA-FACULTAD DE MEDICINA VETERINARIA Y ZOOTECNIA-Oferta=20-Minimos=104',\n",
       "       'Junio 2018 : (207) MEDICINA VETERINARIA Y ZOOTECNIA-FES CUAUTITLAN-Oferta=13-Minimos=92',\n",
       "       'Junio 2018 : (208) MEDICO CIRUJANO-FACULTAD DE MEDICINA-Oferta=38-Minimos=113',\n",
       "       'Junio 2018 : (208) MEDICO CIRUJANO-FES IZTACALA-Oferta=16-Minimos=109',\n",
       "       'Junio 2018 : (208) MEDICO CIRUJANO-FES ZARAGOZA-Oferta=8-Minimos=107',\n",
       "       'Junio 2018 : (209) OPTOMETRIA-FES IZTACALA-Oferta=14-Minimos=80',\n",
       "       'Junio 2018 : (209) OPTOMETRIA-ESCUELA NACIONAL DE ESTUDIOS SUP. UNIDAD LEON-Oferta=10-Minimos=66',\n",
       "       'Junio 2018 : (210) PSICOLOGIA-FACULTAD DE PSICOLOGIA-Oferta=17-Minimos=102',\n",
       "       'Junio 2018 : (210) PSICOLOGIA-FES IZTACALA-Oferta=21-Minimos=81',\n",
       "       'Junio 2018 : (210) PSICOLOGIA-FES ZARAGOZA-Oferta=25-Minimos=78',\n",
       "       'Junio 2018 : (210) PSICOLOGIA-TLAXCALA-Oferta=6-Minimos=56',\n",
       "       'Junio 2018 : (211) QUIMICA-FACULTAD DE QUIMICA-Oferta=8-Minimos=108',\n",
       "       'Junio 2018 : (211) QUIMICA-FES CUAUTITLAN-Oferta=8-Minimos=94',\n",
       "       'Junio 2018 : (212) QUIMICA DE ALIMENTOS-FACULTAD DE QUIMICA-Oferta=13-Minimos=104',\n",
       "       'Junio 2018 : (213) QUIMICA FARMACEUTICO BIOLOGICA-FACULTAD DE QUIMICA-Oferta=16-Minimos=105',\n",
       "       'Junio 2018 : (213) QUIMICA FARMACEUTICO BIOLOGICA-FES ZARAGOZA-Oferta=16-Minimos=100',\n",
       "       'Junio 2018 : (214) QUIMICA INDUSTRIAL-FES CUAUTITLAN-Oferta=16-Minimos=83',\n",
       "       'Junio 2018 : (216) CIENCIAS AMBIENTALES-ESCUELA NACIONAL DE ESTUDIOS SUP. UNIDAD MORELIA-Oferta=27-Minimos=70',\n",
       "       'Junio 2018 : (216) CIENCIAS AMBIENTALES-ESCUELA NACIONAL DE ESTUDIOS SUP. UNIDAD MERIDA-Oferta=11-Minimos=74',\n",
       "       'Junio 2018 : (217) MANEJO SUSTENTABLE DE ZONAS COSTERAS-ESCUELA NACIONAL DE ESTUDIOS SUP. UNIDAD MERIDA-Oferta=11-Minimos=41',\n",
       "       'Junio 2018 : (218) BIOQUIMICA DIAGNOSTICA-FES CUAUTITLAN-Oferta=9-Minimos=96',\n",
       "       'Junio 2018 : (219) FARMACIA-FES CUAUTITLAN-Oferta=21-Minimos=81',\n",
       "       'Junio 2018 : (220) ENFERMERIA-ESCUELA NACIONAL DE ENFERMERIA Y OBSTETRICIA-Oferta=30-Minimos=80',\n",
       "       'Junio 2018 : (220) ENFERMERIA-FES IZTACALA-Oferta=26-Minimos=86',\n",
       "       'Junio 2018 : (220) ENFERMERIA-FES ZARAGOZA-Oferta=20-Minimos=90',\n",
       "       'Junio 2018 : (220) ENFERMERIA-TLAXCALA-Oferta=10-Minimos=55',\n",
       "       'Junio 2018 : (221) FISIOTERAPIA-ESCUELA NACIONAL DE ESTUDIOS SUP. UNIDAD LEON-Oferta=23-Minimos=79',\n",
       "       'Junio 2018 : (222) ODONTOLOGIA-ESCUELA NACIONAL DE ESTUDIOS SUP. UNIDAD LEON-Oferta=21-Minimos=81',\n",
       "       'Junio 2018 : (227) NUTRIOLOGÍA-FES ZARAGOZA-Oferta=15-Minimos=91',\n",
       "       'Junio 2018 : (301) ADMINISTRACION-FACULTAD DE CONTADURIA Y ADMINISTRACION-Oferta=88-Minimos=94',\n",
       "       'Junio 2018 : (301) ADMINISTRACION-FES CUAUTITLAN-Oferta=78-Minimos=77',\n",
       "       'Junio 2018 : (302) CIENCIAS DE LA COMUNICACION-FACULTAD DE CIENCIAS POLITICAS Y SOCIALES-Oferta=14-Minimos=104',\n",
       "       'Junio 2018 : (303) CIENCIAS POLITICAS Y ADMON PUBLICA-FACULTAD DE CIENCIAS POLITICAS Y SOCIALES-Oferta=18-Minimos=97',\n",
       "       'Junio 2018 : (303) CIENCIAS POLITICAS Y ADMON PUBLICA-FES ACATLAN-Oferta=15-Minimos=67',\n",
       "       'Junio 2018 : (304) CONTADURIA-FACULTAD DE CONTADURIA Y ADMINISTRACION-Oferta=169-Minimos=89',\n",
       "       'Junio 2018 : (304) CONTADURIA-FES CUAUTITLAN-Oferta=112-Minimos=68',\n",
       "       'Junio 2018 : (305) DERECHO-FACULTAD DE DERECHO-Oferta=105-Minimos=96',\n",
       "       'Junio 2018 : (305) DERECHO-FES ACATLAN-Oferta=53-Minimos=68',\n",
       "       'Junio 2018 : (305) DERECHO-FES ARAGON-Oferta=57-Minimos=73',\n",
       "       'Junio 2018 : (306) ECONOMIA-FACULTAD DE ECONOMIA-Oferta=150-Minimos=87',\n",
       "       'Junio 2018 : (306) ECONOMIA-FES ACATLAN-Oferta=38-Minimos=83',\n",
       "       'Junio 2018 : (306) ECONOMIA-FES ARAGON-Oferta=33-Minimos=86',\n",
       "       'Junio 2018 : (307) GEOGRAFIA-FACULTAD DE FILOSOFIA Y LETRAS-Oferta=7-Minimos=96',\n",
       "       'Junio 2018 : (308) INFORMATICA-FES CUAUTITLAN-Oferta=23-Minimos=71',\n",
       "       'Junio 2018 : (309) PLANIF PARA EL DESARROLLO AGROPECUARIO-FES ARAGON-Oferta=28-Minimos=65',\n",
       "       'Junio 2018 : (310) RELACIONES INTERNACIONALES-FACULTAD DE CIENCIAS POLITICAS Y SOCIALES-Oferta=12-Minimos=107',\n",
       "       'Junio 2018 : (310) RELACIONES INTERNACIONALES-FES ACATLAN-Oferta=5-Minimos=90',\n",
       "       'Junio 2018 : (310) RELACIONES INTERNACIONALES-FES ARAGON-Oferta=12-Minimos=99',\n",
       "       'Junio 2018 : (311) SOCIOLOGIA-FACULTAD DE CIENCIAS POLITICAS Y SOCIALES-Oferta=28-Minimos=70',\n",
       "       'Junio 2018 : (311) SOCIOLOGIA-FES ACATLAN-Oferta=7-Minimos=63',\n",
       "       'Junio 2018 : (311) SOCIOLOGIA-FES ARAGON-Oferta=11-Minimos=60',\n",
       "       'Junio 2018 : (312) TRABAJO SOCIAL-ESCUELA NACIONAL DE TRABAJO SOCIAL-Oferta=75-Minimos=68',\n",
       "       'Junio 2018 : (313) ECONOMIA INDUSTRIAL-ESCUELA NACIONAL DE ESTUDIOS SUP. UNIDAD LEON-Oferta=10-Minimos=89',\n",
       "       'Junio 2018 : (314) ADMINISTRACION AGROPECUARIA-ESCUELA NACIONAL DE ESTUDIOS SUP. UNIDAD LEON-Oferta=17-Minimos=40',\n",
       "       'Junio 2018 : (315) COMUNICACION-FES ACATLAN-Oferta=14-Minimos=78',\n",
       "       'Junio 2018 : (316) COMUNICACION Y PERIODISMO-FES ARAGON-Oferta=31-Minimos=81',\n",
       "       'Junio 2018 : (317) ESTUDIOS SOCIALES Y GESTION LOCAL-ESCUELA NACIONAL DE ESTUDIOS SUP. UNIDAD MORELIA-Oferta=12-Minimos=50',\n",
       "       'Junio 2018 : (318) DESARROLLO COMUNITARIO PARA EL ENVEJECIMIENTO-TLAXCALA-Oferta=20-Minimos=40',\n",
       "       'Junio 2018 : (319) ANTROPOLOGIA-FACULTAD DE CIENCIAS POLITICAS Y SOCIALES-Oferta=36-Minimos=87',\n",
       "       'Junio 2018 : (320) DESARROLLO TERRITORIAL-ESCUELA NACIONAL DE ESTUDIOS SUP. UNIDAD LEON-Oferta=15-Minimos=50',\n",
       "       'Junio 2018 : (401) ARTES VISUALES-FACULTAD DE ARTES Y DISEÑO-Oferta=10-Minimos=103',\n",
       "       'Junio 2018 : (401) ARTES VISUALES-PLANTEL TAXCO, GRO-Oferta=20-Minimos=57',\n",
       "       'Junio 2018 : (402) BIBLIOTECOLOGIA Y ESTUDIOS DE LA INFORMACION-FACULTAD DE FILOSOFIA Y LETRAS-Oferta=16-Minimos=65',\n",
       "       'Junio 2018 : (403) CANTO-FACULTAD DE MUSICA-Oferta=7-Minimos=60',\n",
       "       'Junio 2018 : (404) COMPOSICION-FACULTAD DE MUSICA-Oferta=8-Minimos=71',\n",
       "       'Junio 2018 : (405) DISEÑO Y COMUNICACION VISUAL-FACULTAD DE ARTES Y DISEÑO-Oferta=8-Minimos=104',\n",
       "       'Junio 2018 : (405) DISEÑO Y COMUNICACION VISUAL-FES CUAUTITLAN-Oferta=4-Minimos=101',\n",
       "       'Junio 2018 : (406) DISEÑO GRAFICO-FES ACATLAN-Oferta=7-Minimos=99',\n",
       "       'Junio 2018 : (407) EDUCACION MUSICAL-FACULTAD DE MUSICA-Oferta=11-Minimos=48',\n",
       "       'Junio 2018 : (408) ENSEÑANZA DE INGLES-FES ACATLAN-Oferta=10-Minimos=67',\n",
       "       'Junio 2018 : (409) ESTUDIOS LATINOAMERICANOS-FACULTAD DE FILOSOFIA Y LETRAS-Oferta=7-Minimos=67',\n",
       "       'Junio 2018 : (410) ETNOMUSICOLOGIA-FACULTAD DE MUSICA-Oferta=2-Minimos=66',\n",
       "       'Junio 2018 : (411) FILOSOFIA-FACULTAD DE FILOSOFIA Y LETRAS-Oferta=5-Minimos=95',\n",
       "       'Junio 2018 : (411) FILOSOFIA-FES ACATLAN-Oferta=7-Minimos=70',\n",
       "       'Junio 2018 : (412) HISTORIA-FACULTAD DE FILOSOFIA Y LETRAS-Oferta=10-Minimos=100',\n",
       "       'Junio 2018 : (412) HISTORIA-FES ACATLAN-Oferta=10-Minimos=64',\n",
       "       'Junio 2018 : (413) INSTRUMENTISTA-FACULTAD DE MUSICA-Oferta=25-Minimos=41',\n",
       "       'Junio 2018 : (414) LENGUA Y LITERATURAS HISPANICAS-FACULTAD DE FILOSOFIA Y LETRAS-Oferta=6-Minimos=101',\n",
       "       'Junio 2018 : (414) LENGUA Y LITERATURAS HISPANICAS-FES ACATLAN-Oferta=5-Minimos=81',\n",
       "       'Junio 2018 : (415) LENGUA Y LITERATURAS MODERNAS (LETRAS ALEMANAS)-FACULTAD DE FILOSOFIA Y LETRAS-Oferta=7-Minimos=41',\n",
       "       'Junio 2018 : (416) LENGUA Y LITERATURAS MODERNAS (LETRAS FRANCESAS)-FACULTAD DE FILOSOFIA Y LETRAS-Oferta=8-Minimos=60',\n",
       "       'Junio 2018 : (417) LENGUA Y LITERATURAS MODERNAS (LETRAS INGLESAS)-FACULTAD DE FILOSOFIA Y LETRAS-Oferta=38-Minimos=73',\n",
       "       'Junio 2018 : (418) LENGUA Y LITERATURAS MODERNAS (LETRAS ITALIANAS)-FACULTAD DE FILOSOFIA Y LETRAS-Oferta=5-Minimos=65',\n",
       "       'Junio 2018 : (419) LETRAS CLASICAS-FACULTAD DE FILOSOFIA Y LETRAS-Oferta=4-Minimos=101',\n",
       "       'Junio 2018 : (420) LITERATURA DRAMATICA Y TEATRO-FACULTAD DE FILOSOFIA Y LETRAS-Oferta=6-Minimos=102',\n",
       "       'Junio 2018 : (421) PEDAGOGIA-FACULTAD DE FILOSOFIA Y LETRAS-Oferta=23-Minimos=72',\n",
       "       'Junio 2018 : (421) PEDAGOGIA-FES ACATLAN-Oferta=14-Minimos=65',\n",
       "       'Junio 2018 : (421) PEDAGOGIA-FES ARAGON-Oferta=20-Minimos=67',\n",
       "       'Junio 2018 : (422) PIANO-FACULTAD DE MUSICA-Oferta=10-Minimos=48',\n",
       "       'Junio 2018 : (429) DESARROLLO Y GESTION INTERCULTURALES-FACULTAD DE FILOSOFIA Y LETRAS-Oferta=3-Minimos=94',\n",
       "       'Junio 2018 : (429) DESARROLLO Y GESTION INTERCULTURALES-ESCUELA NACIONAL DE ESTUDIOS SUP. UNIDAD LEON-Oferta=11-Minimos=59',\n",
       "       'Junio 2018 : (429) DESARROLLO Y GESTION INTERCULTURALES-ESCUELA NACIONAL DE ESTUDIOS SUP. UNIDAD MERIDA-Oferta=12-Minimos=45',\n",
       "       'Junio 2018 : (430) LENGUA Y LITERATURAS MODERNAS (LETRAS PORTUGUESAS)-FACULTAD DE FILOSOFIA Y LETRAS-Oferta=7-Minimos=56',\n",
       "       'Junio 2018 : (431) GEOHISTORIA-ESCUELA NACIONAL DE ESTUDIOS SUP. UNIDAD MORELIA-Oferta=9-Minimos=43',\n",
       "       'Junio 2018 : (432) LITERATURA INTERCULTURAL-ESCUELA NACIONAL DE ESTUDIOS SUP. UNIDAD MORELIA-Oferta=12-Minimos=70',\n",
       "       'Junio 2018 : (433) HISTORIA DEL ARTE-ESCUELA NACIONAL DE ESTUDIOS SUP. UNIDAD MORELIA-Oferta=9-Minimos=82',\n",
       "       'Junio 2018 : (434) ARTE Y DISEÑO-PLANTEL TAXCO, GRO-Oferta=20-Minimos=42',\n",
       "       'Junio 2018 : (434) ARTE Y DISEÑO-ESCUELA NACIONAL DE ESTUDIOS SUP. UNIDAD MORELIA-Oferta=12-Minimos=86',\n",
       "       'Junio 2018 : (437) ADMINISTRACION DE ARCHIVOS Y GESTION DOCUMENTAL-FACULTAD DE FILOSOFIA Y LETRAS-Oferta=15-Minimos=41',\n",
       "       'Junio 2018 : (437) ADMINISTRACION DE ARCHIVOS Y GESTION DOCUMENTAL-ESCUELA NACIONAL DE ESTUDIOS SUP. UNIDAD MORELIA-Oferta=13-Minimos=42',\n",
       "       'Junio 2018 : (438) MUSICA Y TECNOLOGIA ARTISTICA-ESCUELA NACIONAL DE ESTUDIOS SUP. UNIDAD MORELIA-Oferta=7-Minimos=74',\n",
       "       'Junio 2018 : (439) LINGÜISTICA APLICADA-ESCUELA NACIONAL DE LENGUAS,LINGUISTICA Y TRADUCCIÓN-Oferta=8-Minimos=94',\n",
       "       'Junio 2018 : (440) TRADUCCION-ESCUELA NACIONAL DE LENGUAS,LINGUISTICA Y TRADUCCIÓN-Oferta=8-Minimos=107'],\n",
       "      dtype=object)"
      ]
     },
     "execution_count": 17,
     "metadata": {},
     "output_type": "execute_result"
    }
   ],
   "source": [
    "df.Program.unique()"
   ]
  },
  {
   "cell_type": "code",
   "execution_count": 4,
   "metadata": {},
   "outputs": [],
   "source": [
    "# Creating the columns\n",
    "df[\"Faculty\"] = df.apply(lambda x: x[\"Program\"].split(\"-\")[-3], axis = 1)\n",
    "df[\"ScoreMin\"] = df.apply(lambda x: x[\"Program\"].split(\"-\")[-1].split(\"=\")[-1], axis = 1)\n",
    "df[\"Code\"] = df.apply(lambda x: x[\"Program\"].split(\"-\")[0].split()[3].strip(\"()\"), axis = 1)\n",
    "df[\"Round\"] = df.apply(lambda x: x[\"Program\"].split(\":\")[0].split()[0], axis = 1)\n",
    "df[\"Year\"] = df.apply(lambda x: x[\"Program\"].split(\":\")[0].split()[1], axis = 1)\n",
    "df[\"Score\"] = df.apply(lambda x: x[\"Score\"].split(\"'\")[1], axis = 1).astype(\"f\")\n",
    "df[\"Program\"] = df.apply(lambda x: x[\"Program\"].split(\"-\")[0].split(\":\")[1], axis = 1)\n",
    "df[\"Program\"] = df.apply(lambda x: x[\"Program\"].split(\")\")[1:][0].strip(), axis = 1)\n",
    "#df[\"Program\"] = df.apply(lambda x: re.findall(\"  (.+)\",x[\"Program\"]), axis = 1)\n",
    "\n",
    "# Setting Types\n",
    "df[\"ScoreMin\"] = df[\"ScoreMin\"].astype(\"f\")\n",
    "df[\"Year\"] = df.Year.astype(\"int64\")\n",
    "df[\"Code\"] = df[\"Code\"].astype(\"int64\")\n",
    "# Replacing \"999.0\" for Nan values\n",
    "df.replace(999.0, np.nan, inplace = True)"
   ]
  },
  {
   "cell_type": "code",
   "execution_count": 5,
   "metadata": {},
   "outputs": [
    {
     "data": {
      "text/plain": [
       "array(['ACTUARIA', 'ARQUITECTURA', 'ARQUITECTURA DE PAISAJE',\n",
       "       'CIENCIA DE MATERIALES SUSTENTABLES', 'CIENCIAS DE LA COMPUTACION',\n",
       "       'CIENCIAS DE LA TIERRA', 'DISEÑO INDUSTRIAL', 'FISICA',\n",
       "       'FISICA BIOMEDICA', 'GEOCIENCIAS',\n",
       "       'ING. EN TELECOMUNICACIONES, SISTEMAS Y ELECTRONICA',\n",
       "       'INGENIERIA AMBIENTAL', 'INGENIERIA CIVIL',\n",
       "       'INGENIERIA DE MINAS Y METALURGIA',\n",
       "       'INGENIERIA ELECTRICA ELECTRONICA', 'INGENIERIA EN COMPUTACION',\n",
       "       'INGENIERIA GEOFISICA', 'INGENIERIA GEOLOGICA',\n",
       "       'INGENIERIA GEOMATICA', 'INGENIERIA INDUSTRIAL',\n",
       "       'INGENIERIA MECANICA', 'INGENIERIA MECANICA ELECTRICA',\n",
       "       'INGENIERIA PETROLERA', 'INGENIERIA QUIMICA',\n",
       "       'INGENIERIA QUIMICA METALURGICA', 'MATEMATICAS',\n",
       "       'MATEMATICAS APLICADAS', 'MATEMATICAS APLICADAS Y COMPUTACION',\n",
       "       'TECNOLOGIAS PARA LA INFORMACION EN CIENCIAS', 'URBANISMO',\n",
       "       'BIOLOGIA', 'BIOQUIMICA DIAGNOSTICA', 'CIENCIAS AGROFORESTALES',\n",
       "       'CIENCIAS AMBIENTALES', 'CIRUJANO DENTISTA', 'ENFERMERIA',\n",
       "       'ENFERMERIA Y OBSTETRICIA', 'FARMACIA', 'FISIOTERAPIA',\n",
       "       'INGENIERIA AGRICOLA', 'INGENIERIA EN ALIMENTOS',\n",
       "       'MANEJO SUSTENTABLE DE ZONAS COSTERAS',\n",
       "       'MEDICINA VETERINARIA Y ZOOTECNIA', 'MEDICO CIRUJANO',\n",
       "       'NUTRIOLOGIA', 'ODONTOLOGIA', 'OPTOMETRIA', 'PSICOLOGIA',\n",
       "       'QUIMICA', 'QUIMICA DE ALIMENTOS',\n",
       "       'QUIMICA FARMACEUTICO BIOLOGICA', 'QUIMICA INDUSTRIAL',\n",
       "       'ADMINISTRACION', 'ADMINISTRACION AGROPECUARIA', 'ANTROPOLOGIA',\n",
       "       'CIENCIAS DE LA COMUNICACION',\n",
       "       'CIENCIAS POLITICAS Y ADMON PUBLICA', 'COMUNICACION',\n",
       "       'COMUNICACION Y PERIODISMO', 'CONTADURIA', 'DERECHO',\n",
       "       'DESARROLLO COMUNITARIO PARA EL ENVEJECIMIENTO',\n",
       "       'DESARROLLO TERRITORIAL', 'ECONOMIA', 'ECONOMIA INDUSTRIAL',\n",
       "       'ESTUDIOS SOCIALES Y GESTION LOCAL', 'GEOGRAFIA',\n",
       "       'GEOGRAFIA APLICADA', 'INFORMATICA',\n",
       "       'PLANIF PARA EL DESARROLLO AGROPECUARIO',\n",
       "       'RELACIONES INTERNACIONALES', 'SOCIOLOGIA', 'TRABAJO SOCIAL',\n",
       "       'ADMINISTRACION DE ARCHIVOS Y GESTION DOCUMENTAL', 'ARTE Y DISEÑO',\n",
       "       'ARTES VISUALES', 'BIBLIOTECOLOGIA Y ESTUDIOS DE LA INFORMACION',\n",
       "       'CANTO', 'COMPOSICION', 'DESARROLLO Y GESTION INTERCULTURALES',\n",
       "       'DISEÑO GRAFICO', 'DISEÑO Y COMUNICACION VISUAL',\n",
       "       'EDUCACION MUSICAL', 'ENSEÑANZA DE INGLES',\n",
       "       'ESTUDIOS LATINOAMERICANOS', 'ETNOMUSICOLOGIA', 'FILOSOFIA',\n",
       "       'GEOHISTORIA', 'HISTORIA', 'HISTORIA DEL ARTE', 'INSTRUMENTISTA',\n",
       "       'LENGUA Y LITERATURAS HISPANICAS',\n",
       "       'LENGUA Y LITERATURAS MODERNAS (LETRAS ALEMANAS',\n",
       "       'LENGUA Y LITERATURAS MODERNAS (LETRAS FRANCESAS',\n",
       "       'LENGUA Y LITERATURAS MODERNAS (LETRAS INGLESAS',\n",
       "       'LENGUA Y LITERATURAS MODERNAS (LETRAS ITALIANAS',\n",
       "       'LENGUA Y LITERATURAS MODERNAS (LETRAS PORTUGUESAS',\n",
       "       'LETRAS CLASICAS', 'LINGÜISTICA APLICADA',\n",
       "       'LITERATURA DRAMATICA Y TEATRO', 'LITERATURA INTERCULTURAL',\n",
       "       'MUSICA Y TECNOLOGIA ARTISTICA', 'PEDAGOGIA', 'PIANO',\n",
       "       'TEATRO Y ACTUACION', 'TRADUCCION', 'INGENIERIA AEROESPACIAL'],\n",
       "      dtype=object)"
      ]
     },
     "execution_count": 5,
     "metadata": {},
     "output_type": "execute_result"
    }
   ],
   "source": [
    "df[\"Program\"].unique()"
   ]
  },
  {
   "cell_type": "code",
   "execution_count": 6,
   "metadata": {},
   "outputs": [],
   "source": [
    "df.replace({'LENGUA Y LITERATURAS MODERNAS (LETRAS ALEMANAS':'LENGUA Y LITERATURAS MODERNAS (LETRAS ALEMANAS)',\n",
    "           'LENGUA Y LITERATURAS MODERNAS (LETRAS FRANCESAS':'LENGUA Y LITERATURAS MODERNAS (LETRAS FRANCESAS)',\n",
    "           'LENGUA Y LITERATURAS MODERNAS (LETRAS INGLESAS':'LENGUA Y LITERATURAS MODERNAS (LETRAS INGLESAS)',\n",
    "           'LENGUA Y LITERATURAS MODERNAS (LETRAS ITALIANAS':'LENGUA Y LITERATURAS MODERNAS (LETRAS ITALIANAS)',\n",
    "           'LENGUA Y LITERATURAS MODERNAS (LETRAS PORTUGUESAS':'LENGUA Y LITERATURAS MODERNAS (LETRAS PORTUGUESAS)'}, inplace =True)"
   ]
  },
  {
   "cell_type": "code",
   "execution_count": 20,
   "metadata": {},
   "outputs": [],
   "source": [
    "df.to_excel(\"C-UNAMdata2018.xlsx\", engine = 'openpyxl')"
   ]
  },
  {
   "cell_type": "code",
   "execution_count": 7,
   "metadata": {},
   "outputs": [
    {
     "data": {
      "text/html": [
       "<div>\n",
       "<style scoped>\n",
       "    .dataframe tbody tr th:only-of-type {\n",
       "        vertical-align: middle;\n",
       "    }\n",
       "\n",
       "    .dataframe tbody tr th {\n",
       "        vertical-align: top;\n",
       "    }\n",
       "\n",
       "    .dataframe thead th {\n",
       "        text-align: right;\n",
       "    }\n",
       "</style>\n",
       "<table border=\"1\" class=\"dataframe\">\n",
       "  <thead>\n",
       "    <tr style=\"text-align: right;\">\n",
       "      <th></th>\n",
       "      <th>Folio</th>\n",
       "      <th>Program</th>\n",
       "      <th>Score</th>\n",
       "      <th>Faculty</th>\n",
       "      <th>ScoreMin</th>\n",
       "      <th>Code</th>\n",
       "      <th>Round</th>\n",
       "      <th>Year</th>\n",
       "    </tr>\n",
       "  </thead>\n",
       "  <tbody>\n",
       "    <tr>\n",
       "      <th>0</th>\n",
       "      <td>52.0</td>\n",
       "      <td>ACTUARIA</td>\n",
       "      <td>106.0</td>\n",
       "      <td>FACULTAD DE CIENCIAS</td>\n",
       "      <td>107.0</td>\n",
       "      <td>101</td>\n",
       "      <td>Febrero</td>\n",
       "      <td>2020</td>\n",
       "    </tr>\n",
       "    <tr>\n",
       "      <th>1</th>\n",
       "      <td>64.0</td>\n",
       "      <td>ACTUARIA</td>\n",
       "      <td>81.0</td>\n",
       "      <td>FACULTAD DE CIENCIAS</td>\n",
       "      <td>107.0</td>\n",
       "      <td>101</td>\n",
       "      <td>Febrero</td>\n",
       "      <td>2020</td>\n",
       "    </tr>\n",
       "    <tr>\n",
       "      <th>2</th>\n",
       "      <td>123.0</td>\n",
       "      <td>ACTUARIA</td>\n",
       "      <td>77.0</td>\n",
       "      <td>FACULTAD DE CIENCIAS</td>\n",
       "      <td>107.0</td>\n",
       "      <td>101</td>\n",
       "      <td>Febrero</td>\n",
       "      <td>2020</td>\n",
       "    </tr>\n",
       "    <tr>\n",
       "      <th>3</th>\n",
       "      <td>125.0</td>\n",
       "      <td>ACTUARIA</td>\n",
       "      <td>NaN</td>\n",
       "      <td>FACULTAD DE CIENCIAS</td>\n",
       "      <td>107.0</td>\n",
       "      <td>101</td>\n",
       "      <td>Febrero</td>\n",
       "      <td>2020</td>\n",
       "    </tr>\n",
       "    <tr>\n",
       "      <th>4</th>\n",
       "      <td>129.0</td>\n",
       "      <td>ACTUARIA</td>\n",
       "      <td>59.0</td>\n",
       "      <td>FACULTAD DE CIENCIAS</td>\n",
       "      <td>107.0</td>\n",
       "      <td>101</td>\n",
       "      <td>Febrero</td>\n",
       "      <td>2020</td>\n",
       "    </tr>\n",
       "  </tbody>\n",
       "</table>\n",
       "</div>"
      ],
      "text/plain": [
       "   Folio   Program  Score               Faculty  ScoreMin  Code    Round  Year\n",
       "0   52.0  ACTUARIA  106.0  FACULTAD DE CIENCIAS     107.0   101  Febrero  2020\n",
       "1   64.0  ACTUARIA   81.0  FACULTAD DE CIENCIAS     107.0   101  Febrero  2020\n",
       "2  123.0  ACTUARIA   77.0  FACULTAD DE CIENCIAS     107.0   101  Febrero  2020\n",
       "3  125.0  ACTUARIA    NaN  FACULTAD DE CIENCIAS     107.0   101  Febrero  2020\n",
       "4  129.0  ACTUARIA   59.0  FACULTAD DE CIENCIAS     107.0   101  Febrero  2020"
      ]
     },
     "execution_count": 7,
     "metadata": {},
     "output_type": "execute_result"
    }
   ],
   "source": [
    "df.head()"
   ]
  },
  {
   "cell_type": "code",
   "execution_count": 37,
   "metadata": {
    "tags": []
   },
   "outputs": [
    {
     "ename": "AttributeError",
     "evalue": "'bool' object has no attribute 'all'",
     "output_type": "error",
     "traceback": [
      "\u001b[1;31m---------------------------------------------------------------------------\u001b[0m",
      "\u001b[1;31mAttributeError\u001b[0m                            Traceback (most recent call last)",
      "\u001b[1;32m~\\AppData\\Local\\Temp/ipykernel_25064/2369828382.py\u001b[0m in \u001b[0;36m<module>\u001b[1;34m\u001b[0m\n\u001b[0;32m      1\u001b[0m \u001b[0mplt\u001b[0m\u001b[1;33m.\u001b[0m\u001b[0mfigure\u001b[0m \u001b[1;33m(\u001b[0m\u001b[0mfigsize\u001b[0m \u001b[1;33m=\u001b[0m \u001b[1;33m(\u001b[0m\u001b[1;36m10\u001b[0m\u001b[1;33m,\u001b[0m\u001b[1;36m6\u001b[0m\u001b[1;33m)\u001b[0m\u001b[1;33m)\u001b[0m\u001b[1;33m\u001b[0m\u001b[1;33m\u001b[0m\u001b[0m\n\u001b[0;32m      2\u001b[0m \u001b[0mplt\u001b[0m\u001b[1;33m.\u001b[0m\u001b[0mtitle\u001b[0m\u001b[1;33m(\u001b[0m\u001b[1;34m'General Average of Scores per Year '\u001b[0m\u001b[1;33m)\u001b[0m\u001b[1;33m\u001b[0m\u001b[1;33m\u001b[0m\u001b[0m\n\u001b[1;32m----> 3\u001b[1;33m \u001b[0msns\u001b[0m\u001b[1;33m.\u001b[0m\u001b[0mbarplot\u001b[0m\u001b[1;33m(\u001b[0m\u001b[0mx\u001b[0m\u001b[1;33m=\u001b[0m \u001b[0mdf\u001b[0m\u001b[1;33m.\u001b[0m\u001b[0mgroupby\u001b[0m\u001b[1;33m(\u001b[0m\u001b[1;34m'Program'\u001b[0m\u001b[1;33m)\u001b[0m\u001b[1;33m,\u001b[0m \u001b[0my\u001b[0m \u001b[1;33m=\u001b[0m \u001b[0mdf\u001b[0m\u001b[1;33m.\u001b[0m\u001b[0mScore\u001b[0m\u001b[1;33m)\u001b[0m\u001b[1;33m\u001b[0m\u001b[1;33m\u001b[0m\u001b[0m\n\u001b[0m",
      "\u001b[1;32m~\\Documents\\projects\\UNAM-Flask\\venv\\lib\\site-packages\\seaborn\\_decorators.py\u001b[0m in \u001b[0;36minner_f\u001b[1;34m(*args, **kwargs)\u001b[0m\n\u001b[0;32m     44\u001b[0m             )\n\u001b[0;32m     45\u001b[0m         \u001b[0mkwargs\u001b[0m\u001b[1;33m.\u001b[0m\u001b[0mupdate\u001b[0m\u001b[1;33m(\u001b[0m\u001b[1;33m{\u001b[0m\u001b[0mk\u001b[0m\u001b[1;33m:\u001b[0m \u001b[0marg\u001b[0m \u001b[1;32mfor\u001b[0m \u001b[0mk\u001b[0m\u001b[1;33m,\u001b[0m \u001b[0marg\u001b[0m \u001b[1;32min\u001b[0m \u001b[0mzip\u001b[0m\u001b[1;33m(\u001b[0m\u001b[0msig\u001b[0m\u001b[1;33m.\u001b[0m\u001b[0mparameters\u001b[0m\u001b[1;33m,\u001b[0m \u001b[0margs\u001b[0m\u001b[1;33m)\u001b[0m\u001b[1;33m}\u001b[0m\u001b[1;33m)\u001b[0m\u001b[1;33m\u001b[0m\u001b[1;33m\u001b[0m\u001b[0m\n\u001b[1;32m---> 46\u001b[1;33m         \u001b[1;32mreturn\u001b[0m \u001b[0mf\u001b[0m\u001b[1;33m(\u001b[0m\u001b[1;33m**\u001b[0m\u001b[0mkwargs\u001b[0m\u001b[1;33m)\u001b[0m\u001b[1;33m\u001b[0m\u001b[1;33m\u001b[0m\u001b[0m\n\u001b[0m\u001b[0;32m     47\u001b[0m     \u001b[1;32mreturn\u001b[0m \u001b[0minner_f\u001b[0m\u001b[1;33m\u001b[0m\u001b[1;33m\u001b[0m\u001b[0m\n\u001b[0;32m     48\u001b[0m \u001b[1;33m\u001b[0m\u001b[0m\n",
      "\u001b[1;32m~\\Documents\\projects\\UNAM-Flask\\venv\\lib\\site-packages\\seaborn\\categorical.py\u001b[0m in \u001b[0;36mbarplot\u001b[1;34m(x, y, hue, data, order, hue_order, estimator, ci, n_boot, units, seed, orient, color, palette, saturation, errcolor, errwidth, capsize, dodge, ax, **kwargs)\u001b[0m\n\u001b[0;32m   3180\u001b[0m ):\n\u001b[0;32m   3181\u001b[0m \u001b[1;33m\u001b[0m\u001b[0m\n\u001b[1;32m-> 3182\u001b[1;33m     plotter = _BarPlotter(x, y, hue, data, order, hue_order,\n\u001b[0m\u001b[0;32m   3183\u001b[0m                           \u001b[0mestimator\u001b[0m\u001b[1;33m,\u001b[0m \u001b[0mci\u001b[0m\u001b[1;33m,\u001b[0m \u001b[0mn_boot\u001b[0m\u001b[1;33m,\u001b[0m \u001b[0munits\u001b[0m\u001b[1;33m,\u001b[0m \u001b[0mseed\u001b[0m\u001b[1;33m,\u001b[0m\u001b[1;33m\u001b[0m\u001b[1;33m\u001b[0m\u001b[0m\n\u001b[0;32m   3184\u001b[0m                           \u001b[0morient\u001b[0m\u001b[1;33m,\u001b[0m \u001b[0mcolor\u001b[0m\u001b[1;33m,\u001b[0m \u001b[0mpalette\u001b[0m\u001b[1;33m,\u001b[0m \u001b[0msaturation\u001b[0m\u001b[1;33m,\u001b[0m\u001b[1;33m\u001b[0m\u001b[1;33m\u001b[0m\u001b[0m\n",
      "\u001b[1;32m~\\Documents\\projects\\UNAM-Flask\\venv\\lib\\site-packages\\seaborn\\categorical.py\u001b[0m in \u001b[0;36m__init__\u001b[1;34m(self, x, y, hue, data, order, hue_order, estimator, ci, n_boot, units, seed, orient, color, palette, saturation, errcolor, errwidth, capsize, dodge)\u001b[0m\n\u001b[0;32m   1582\u001b[0m                  errwidth, capsize, dodge):\n\u001b[0;32m   1583\u001b[0m         \u001b[1;34m\"\"\"Initialize the plotter.\"\"\"\u001b[0m\u001b[1;33m\u001b[0m\u001b[1;33m\u001b[0m\u001b[0m\n\u001b[1;32m-> 1584\u001b[1;33m         self.establish_variables(x, y, hue, data, orient,\n\u001b[0m\u001b[0;32m   1585\u001b[0m                                  order, hue_order, units)\n\u001b[0;32m   1586\u001b[0m         \u001b[0mself\u001b[0m\u001b[1;33m.\u001b[0m\u001b[0mestablish_colors\u001b[0m\u001b[1;33m(\u001b[0m\u001b[0mcolor\u001b[0m\u001b[1;33m,\u001b[0m \u001b[0mpalette\u001b[0m\u001b[1;33m,\u001b[0m \u001b[0msaturation\u001b[0m\u001b[1;33m)\u001b[0m\u001b[1;33m\u001b[0m\u001b[1;33m\u001b[0m\u001b[0m\n",
      "\u001b[1;32m~\\Documents\\projects\\UNAM-Flask\\venv\\lib\\site-packages\\seaborn\\categorical.py\u001b[0m in \u001b[0;36mestablish_variables\u001b[1;34m(self, x, y, hue, data, orient, order, hue_order, units)\u001b[0m\n\u001b[0;32m    154\u001b[0m \u001b[1;33m\u001b[0m\u001b[0m\n\u001b[0;32m    155\u001b[0m             \u001b[1;31m# Figure out the plotting orientation\u001b[0m\u001b[1;33m\u001b[0m\u001b[1;33m\u001b[0m\u001b[0m\n\u001b[1;32m--> 156\u001b[1;33m             orient = infer_orient(\n\u001b[0m\u001b[0;32m    157\u001b[0m                 \u001b[0mx\u001b[0m\u001b[1;33m,\u001b[0m \u001b[0my\u001b[0m\u001b[1;33m,\u001b[0m \u001b[0morient\u001b[0m\u001b[1;33m,\u001b[0m \u001b[0mrequire_numeric\u001b[0m\u001b[1;33m=\u001b[0m\u001b[0mself\u001b[0m\u001b[1;33m.\u001b[0m\u001b[0mrequire_numeric\u001b[0m\u001b[1;33m\u001b[0m\u001b[1;33m\u001b[0m\u001b[0m\n\u001b[0;32m    158\u001b[0m             )\n",
      "\u001b[1;32m~\\Documents\\projects\\UNAM-Flask\\venv\\lib\\site-packages\\seaborn\\_core.py\u001b[0m in \u001b[0;36minfer_orient\u001b[1;34m(x, y, orient, require_numeric)\u001b[0m\n\u001b[0;32m   1309\u001b[0m     \"\"\"\n\u001b[0;32m   1310\u001b[0m \u001b[1;33m\u001b[0m\u001b[0m\n\u001b[1;32m-> 1311\u001b[1;33m     \u001b[0mx_type\u001b[0m \u001b[1;33m=\u001b[0m \u001b[1;32mNone\u001b[0m \u001b[1;32mif\u001b[0m \u001b[0mx\u001b[0m \u001b[1;32mis\u001b[0m \u001b[1;32mNone\u001b[0m \u001b[1;32melse\u001b[0m \u001b[0mvariable_type\u001b[0m\u001b[1;33m(\u001b[0m\u001b[0mx\u001b[0m\u001b[1;33m)\u001b[0m\u001b[1;33m\u001b[0m\u001b[1;33m\u001b[0m\u001b[0m\n\u001b[0m\u001b[0;32m   1312\u001b[0m     \u001b[0my_type\u001b[0m \u001b[1;33m=\u001b[0m \u001b[1;32mNone\u001b[0m \u001b[1;32mif\u001b[0m \u001b[0my\u001b[0m \u001b[1;32mis\u001b[0m \u001b[1;32mNone\u001b[0m \u001b[1;32melse\u001b[0m \u001b[0mvariable_type\u001b[0m\u001b[1;33m(\u001b[0m\u001b[0my\u001b[0m\u001b[1;33m)\u001b[0m\u001b[1;33m\u001b[0m\u001b[1;33m\u001b[0m\u001b[0m\n\u001b[0;32m   1313\u001b[0m \u001b[1;33m\u001b[0m\u001b[0m\n",
      "\u001b[1;32m~\\Documents\\projects\\UNAM-Flask\\venv\\lib\\site-packages\\seaborn\\_core.py\u001b[0m in \u001b[0;36mvariable_type\u001b[1;34m(vector, boolean_type)\u001b[0m\n\u001b[0;32m   1227\u001b[0m \u001b[1;33m\u001b[0m\u001b[0m\n\u001b[0;32m   1228\u001b[0m     \u001b[1;31m# Special-case all-na data, which is always \"numeric\"\u001b[0m\u001b[1;33m\u001b[0m\u001b[1;33m\u001b[0m\u001b[0m\n\u001b[1;32m-> 1229\u001b[1;33m     \u001b[1;32mif\u001b[0m \u001b[0mpd\u001b[0m\u001b[1;33m.\u001b[0m\u001b[0misna\u001b[0m\u001b[1;33m(\u001b[0m\u001b[0mvector\u001b[0m\u001b[1;33m)\u001b[0m\u001b[1;33m.\u001b[0m\u001b[0mall\u001b[0m\u001b[1;33m(\u001b[0m\u001b[1;33m)\u001b[0m\u001b[1;33m:\u001b[0m\u001b[1;33m\u001b[0m\u001b[1;33m\u001b[0m\u001b[0m\n\u001b[0m\u001b[0;32m   1230\u001b[0m         \u001b[1;32mreturn\u001b[0m \u001b[1;34m\"numeric\"\u001b[0m\u001b[1;33m\u001b[0m\u001b[1;33m\u001b[0m\u001b[0m\n\u001b[0;32m   1231\u001b[0m \u001b[1;33m\u001b[0m\u001b[0m\n",
      "\u001b[1;31mAttributeError\u001b[0m: 'bool' object has no attribute 'all'"
     ]
    },
    {
     "data": {
      "image/png": "[encoded data removed]",
      "text/plain": [
       "<Figure size 720x432 with 1 Axes>"
      ]
     },
     "metadata": {
      "needs_background": "light"
     },
     "output_type": "display_data"
    }
   ],
   "source": [
    "plt.figure (figsize = (10,6))\n",
    "plt.title('General Average of Scores per Year ')\n",
    "sns.barplot(x= df.groupby('Program'), y = df.Score)"
   ]
  },
  {
   "cell_type": "code",
   "execution_count": 42,
   "metadata": {},
   "outputs": [
    {
     "data": {
      "text/plain": [
       "<pandas.core.groupby.generic.SeriesGroupBy object at 0x000001E42BF54070>"
      ]
     },
     "execution_count": 42,
     "metadata": {},
     "output_type": "execute_result"
    }
   ],
   "source": [
    "x = df.groupby('Program')['Score']"
   ]
  },
  {
   "cell_type": "markdown",
   "metadata": {},
   "source": [
    "### ¿Cuántas personas faltaron al examen?"
   ]
  },
  {
   "cell_type": "code",
   "execution_count": 10,
   "metadata": {},
   "outputs": [
    {
     "data": {
      "text/plain": [
       "20991"
      ]
     },
     "execution_count": 10,
     "metadata": {},
     "output_type": "execute_result"
    }
   ],
   "source": [
    "faltaron = len(df[df.Score.isna()])\n",
    "faltaron"
   ]
  },
  {
   "cell_type": "markdown",
   "metadata": {},
   "source": [
    "### ¿Cuántas personas pasaron el examen?"
   ]
  },
  {
   "cell_type": "code",
   "execution_count": 11,
   "metadata": {},
   "outputs": [
    {
     "data": {
      "text/plain": [
       "13410"
      ]
     },
     "execution_count": 11,
     "metadata": {},
     "output_type": "execute_result"
    }
   ],
   "source": [
    "pasaron = len(df[df.Score>=df.ScoreMin])\n",
    "pasaron"
   ]
  },
  {
   "cell_type": "markdown",
   "metadata": {},
   "source": [
    "### ¿Tasa de aceptación  2020?"
   ]
  },
  {
   "cell_type": "code",
   "execution_count": 12,
   "metadata": {},
   "outputs": [
    {
     "data": {
      "text/plain": [
       "6.137889682761273"
      ]
     },
     "execution_count": 12,
     "metadata": {},
     "output_type": "execute_result"
    }
   ],
   "source": [
    "pasaron/len(df) * 100"
   ]
  },
  {
   "cell_type": "markdown",
   "metadata": {},
   "source": [
    "### ¿Calificación promedio?"
   ]
  },
  {
   "cell_type": "code",
   "execution_count": 13,
   "metadata": {},
   "outputs": [
    {
     "data": {
      "text/plain": [
       "58.155174"
      ]
     },
     "execution_count": 13,
     "metadata": {},
     "output_type": "execute_result"
    }
   ],
   "source": [
    "df[\"Score\"].mean()"
   ]
  },
  {
   "cell_type": "markdown",
   "metadata": {},
   "source": [
    "### ¿Promedio calificación para Actuaría?"
   ]
  },
  {
   "cell_type": "code",
   "execution_count": 89,
   "metadata": {
    "scrolled": true
   },
   "outputs": [
    {
     "data": {
      "text/plain": [
       "65.34104919433594"
      ]
     },
     "execution_count": 89,
     "metadata": {},
     "output_type": "execute_result"
    }
   ],
   "source": [
    "df[df[\"Program\"] == \"ACTUARIA\"][\"Score\"].mean()"
   ]
  },
  {
   "cell_type": "markdown",
   "metadata": {},
   "source": [
    "### ¿Promedio general por Escuela? (Gráfica de barras)"
   ]
  },
  {
   "cell_type": "code",
   "execution_count": 54,
   "metadata": {},
   "outputs": [
    {
     "ename": "AttributeError",
     "evalue": "'Series' object has no attribute 'startswith'",
     "output_type": "error",
     "traceback": [
      "\u001b[1;31m---------------------------------------------------------------------------\u001b[0m",
      "\u001b[1;31mAttributeError\u001b[0m                            Traceback (most recent call last)",
      "\u001b[1;32m<ipython-input-54-cf657ef92d26>\u001b[0m in \u001b[0;36m<module>\u001b[1;34m\u001b[0m\n\u001b[1;32m----> 1\u001b[1;33m \u001b[0mCiencias\u001b[0m \u001b[1;33m=\u001b[0m \u001b[0mdf\u001b[0m\u001b[1;33m[\u001b[0m\u001b[0mdf\u001b[0m\u001b[1;33m[\u001b[0m\u001b[1;34m\"Carrera\"\u001b[0m\u001b[1;33m]\u001b[0m\u001b[1;33m.\u001b[0m\u001b[0mstartswith\u001b[0m\u001b[1;33m(\u001b[0m\u001b[1;34m\"(1\"\u001b[0m\u001b[1;33m)\u001b[0m\u001b[1;33m]\u001b[0m\u001b[1;33m\u001b[0m\u001b[1;33m\u001b[0m\u001b[0m\n\u001b[0m",
      "\u001b[1;32m~\\anaconda3\\lib\\site-packages\\pandas\\core\\generic.py\u001b[0m in \u001b[0;36m__getattr__\u001b[1;34m(self, name)\u001b[0m\n\u001b[0;32m   5272\u001b[0m             \u001b[1;32mif\u001b[0m \u001b[0mself\u001b[0m\u001b[1;33m.\u001b[0m\u001b[0m_info_axis\u001b[0m\u001b[1;33m.\u001b[0m\u001b[0m_can_hold_identifiers_and_holds_name\u001b[0m\u001b[1;33m(\u001b[0m\u001b[0mname\u001b[0m\u001b[1;33m)\u001b[0m\u001b[1;33m:\u001b[0m\u001b[1;33m\u001b[0m\u001b[1;33m\u001b[0m\u001b[0m\n\u001b[0;32m   5273\u001b[0m                 \u001b[1;32mreturn\u001b[0m \u001b[0mself\u001b[0m\u001b[1;33m[\u001b[0m\u001b[0mname\u001b[0m\u001b[1;33m]\u001b[0m\u001b[1;33m\u001b[0m\u001b[1;33m\u001b[0m\u001b[0m\n\u001b[1;32m-> 5274\u001b[1;33m             \u001b[1;32mreturn\u001b[0m \u001b[0mobject\u001b[0m\u001b[1;33m.\u001b[0m\u001b[0m__getattribute__\u001b[0m\u001b[1;33m(\u001b[0m\u001b[0mself\u001b[0m\u001b[1;33m,\u001b[0m \u001b[0mname\u001b[0m\u001b[1;33m)\u001b[0m\u001b[1;33m\u001b[0m\u001b[1;33m\u001b[0m\u001b[0m\n\u001b[0m\u001b[0;32m   5275\u001b[0m \u001b[1;33m\u001b[0m\u001b[0m\n\u001b[0;32m   5276\u001b[0m     \u001b[1;32mdef\u001b[0m \u001b[0m__setattr__\u001b[0m\u001b[1;33m(\u001b[0m\u001b[0mself\u001b[0m\u001b[1;33m,\u001b[0m \u001b[0mname\u001b[0m\u001b[1;33m:\u001b[0m \u001b[0mstr\u001b[0m\u001b[1;33m,\u001b[0m \u001b[0mvalue\u001b[0m\u001b[1;33m)\u001b[0m \u001b[1;33m->\u001b[0m \u001b[1;32mNone\u001b[0m\u001b[1;33m:\u001b[0m\u001b[1;33m\u001b[0m\u001b[1;33m\u001b[0m\u001b[0m\n",
      "\u001b[1;31mAttributeError\u001b[0m: 'Series' object has no attribute 'startswith'"
     ]
    }
   ],
   "source": [
    "Ciencias = df[df[\"Carrera\"].startswith(\"(1\")] #TODO"
   ]
  },
  {
   "cell_type": "markdown",
   "metadata": {},
   "source": [
    "### ¿Promedios por carrera en Escuela de Ciencias? (caja de bigotes)"
   ]
  },
  {
   "cell_type": "code",
   "execution_count": 44,
   "metadata": {},
   "outputs": [
    {
     "data": {
      "text/plain": [
       "'ahsbuibndwss'"
      ]
     },
     "execution_count": 44,
     "metadata": {},
     "output_type": "execute_result"
    }
   ],
   "source": [
    "x = [\"ahsbuibndw\",\"ss\"]\n",
    "x[0]+x[1]"
   ]
  },
  {
   "cell_type": "code",
   "execution_count": 59,
   "metadata": {},
   "outputs": [
    {
     "data": {
      "text/plain": [
       "'LENGUA Y LITERATURAS MODERNAS (LETRAS FRANCESAS)'"
      ]
     },
     "execution_count": 59,
     "metadata": {},
     "output_type": "execute_result"
    }
   ],
   "source": [
    "x = \"(416)  LENGUA Y LITERATURAS MODERNAS (LETRAS FRANCESAS)\"\n",
    "r = re.findall(\"  (.+)\",x)[0]\n",
    "r"
   ]
  },
  {
   "cell_type": "code",
   "execution_count": 1,
   "metadata": {},
   "outputs": [],
   "source": [
    "def gg(x):\n",
    "    return x"
   ]
  },
  {
   "cell_type": "code",
   "execution_count": 4,
   "metadata": {},
   "outputs": [
    {
     "data": {
      "text/plain": [
       "5"
      ]
     },
     "execution_count": 4,
     "metadata": {},
     "output_type": "execute_result"
    }
   ],
   "source": [
    "gg(5)"
   ]
  },
  {
   "cell_type": "code",
   "execution_count": null,
   "metadata": {},
   "outputs": [],
   "source": []
  }
 ],
 "metadata": {
  "kernelspec": {
   "display_name": "Python 3 (ipykernel)",
   "language": "python",
   "name": "python3"
  },
  "language_info": {
   "codemirror_mode": {
    "name": "ipython",
    "version": 3
   },
   "file_extension": ".py",
   "mimetype": "text/x-python",
   "name": "python",
   "nbconvert_exporter": "python",
   "pygments_lexer": "ipython3",
   "version": "3.9.7"
  }
 },
 "nbformat": 4,
 "nbformat_minor": 4
}
