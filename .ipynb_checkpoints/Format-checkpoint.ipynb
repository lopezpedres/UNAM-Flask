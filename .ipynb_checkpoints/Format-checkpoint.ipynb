{
 "cells": [
  {
   "cell_type": "markdown",
   "metadata": {},
   "source": [
    "# Creating the  Data Frame"
   ]
  },
  {
   "cell_type": "code",
   "execution_count": 15,
   "metadata": {},
   "outputs": [],
   "source": [
    "import pandas as pd\n",
    "import matplotlib.pyplot as plt\n",
    "import numpy as np\n",
    "import re"
   ]
  },
  {
   "cell_type": "code",
   "execution_count": 16,
   "metadata": {},
   "outputs": [
    {
     "data": {
      "text/html": [
       "<div>\n",
       "<style scoped>\n",
       "    .dataframe tbody tr th:only-of-type {\n",
       "        vertical-align: middle;\n",
       "    }\n",
       "\n",
       "    .dataframe tbody tr th {\n",
       "        vertical-align: top;\n",
       "    }\n",
       "\n",
       "    .dataframe thead th {\n",
       "        text-align: right;\n",
       "    }\n",
       "</style>\n",
       "<table border=\"1\" class=\"dataframe\">\n",
       "  <thead>\n",
       "    <tr style=\"text-align: right;\">\n",
       "      <th></th>\n",
       "      <th>Folio</th>\n",
       "      <th>Program</th>\n",
       "      <th>Score</th>\n",
       "    </tr>\n",
       "  </thead>\n",
       "  <tbody>\n",
       "    <tr>\n",
       "      <th>0</th>\n",
       "      <td>52</td>\n",
       "      <td>Febrero 2020 : (101)  ACTUARIA-FACULTAD DE CIE...</td>\n",
       "      <td>('106', '')</td>\n",
       "    </tr>\n",
       "    <tr>\n",
       "      <th>1</th>\n",
       "      <td>64</td>\n",
       "      <td>Febrero 2020 : (101)  ACTUARIA-FACULTAD DE CIE...</td>\n",
       "      <td>('81', '')</td>\n",
       "    </tr>\n",
       "    <tr>\n",
       "      <th>2</th>\n",
       "      <td>123</td>\n",
       "      <td>Febrero 2020 : (101)  ACTUARIA-FACULTAD DE CIE...</td>\n",
       "      <td>('77', '')</td>\n",
       "    </tr>\n",
       "    <tr>\n",
       "      <th>3</th>\n",
       "      <td>125</td>\n",
       "      <td>Febrero 2020 : (101)  ACTUARIA-FACULTAD DE CIE...</td>\n",
       "      <td>('999', 'N')</td>\n",
       "    </tr>\n",
       "    <tr>\n",
       "      <th>4</th>\n",
       "      <td>129</td>\n",
       "      <td>Febrero 2020 : (101)  ACTUARIA-FACULTAD DE CIE...</td>\n",
       "      <td>('59', '')</td>\n",
       "    </tr>\n",
       "  </tbody>\n",
       "</table>\n",
       "</div>"
      ],
      "text/plain": [
       "   Folio                                            Program         Score\n",
       "0     52  Febrero 2020 : (101)  ACTUARIA-FACULTAD DE CIE...   ('106', '')\n",
       "1     64  Febrero 2020 : (101)  ACTUARIA-FACULTAD DE CIE...    ('81', '')\n",
       "2    123  Febrero 2020 : (101)  ACTUARIA-FACULTAD DE CIE...    ('77', '')\n",
       "3    125  Febrero 2020 : (101)  ACTUARIA-FACULTAD DE CIE...  ('999', 'N')\n",
       "4    129  Febrero 2020 : (101)  ACTUARIA-FACULTAD DE CIE...    ('59', '')"
      ]
     },
     "execution_count": 16,
     "metadata": {},
     "output_type": "execute_result"
    }
   ],
   "source": [
    "# Need to stack my data so I can see the \"Programs\" in a column, is going to give a series\n",
    "df = pd.read_csv(\"UNAMdata2020.csv\", index_col = 0, low_memory =False).stack()\n",
    "# If we wouldn´t change the blank to \"999\" in \"Pulling and Cleaning\" program we would have needed to to this:\n",
    "        #st = type(\"str\")\n",
    "        #df = df.applymap(lambda x: \"999\" if isinstance(x, st) and x.isspace() else x)\n",
    "# Need to create a df with my series object and add the columns\n",
    "df = pd.DataFrame(df).reset_index() \n",
    "df.columns = [\"Folio\", \"Program\", \"Score\"]\n",
    "df.head()"
   ]
  },
  {
   "cell_type": "code",
   "execution_count": 17,
   "metadata": {
    "scrolled": false
   },
   "outputs": [
    {
     "data": {
      "text/plain": [
       "array(['Febrero 2020 : (101)  ACTUARIA-FACULTAD DE CIENCIAS-Oferta=40-Minimos=107',\n",
       "       'Febrero 2020 : (101)  ACTUARIA-FES ACATLAN-Oferta=36-Minimos=97',\n",
       "       'Febrero 2020 : (102)  ARQUITECTURA-FACULTAD DE ARQUITECTURA-Oferta=190-Minimos=91',\n",
       "       'Febrero 2020 : (102)  ARQUITECTURA-FES ACATLAN-Oferta=63-Minimos=82',\n",
       "       'Febrero 2020 : (102)  ARQUITECTURA-FES ARAGON-Oferta=60-Minimos=80',\n",
       "       'Febrero 2020 : (103)  ARQUITECTURA DE PAISAJE-FACULTAD DE ARQUITECTURA-Oferta=15-Minimos=93',\n",
       "       'Febrero 2020 : (133)  CIENCIA DE MATERIALES SUSTENTABLES-ESCUELA NAL. DE ESTUDIOS SUP. UNIDAD MORELIA-Oferta=30-Minimos=62',\n",
       "       'Febrero 2020 : (104)  CIENCIAS DE LA COMPUTACION-FACULTAD DE CIENCIAS-Oferta=28-Minimos=107',\n",
       "       'Febrero 2020 : (127)  CIENCIAS DE LA TIERRA-ESCUELA NACIONAL DE CIENCIAS DE LA TIERRA-Oferta=20-Minimos=101',\n",
       "       'Febrero 2020 : (127)  CIENCIAS DE LA TIERRA-ESCUELA NAL. DE ESTUDIOS SUP. UNIDAD MERIDA-Oferta=15-Minimos=57',\n",
       "       'Febrero 2020 : (127)  CIENCIAS DE LA TIERRA-ESCUELA NAL. DE ESTUDIOS SUP. UNIDAD JURIQUILLA-Oferta=15-Minimos=87',\n",
       "       'Febrero 2020 : (105)  DISEÑO INDUSTRIAL-FES ARAGON-Oferta=18-Minimos=83',\n",
       "       'Febrero 2020 : (106)  FISICA-FACULTAD DE CIENCIAS-Oferta=72-Minimos=110',\n",
       "       'Febrero 2020 : (134)  FISICA BIOMEDICA-FACULTAD DE CIENCIAS-Oferta=9-Minimos=107',\n",
       "       'Febrero 2020 : (131)  GEOCIENCIAS-ESCUELA NAL. DE ESTUDIOS SUP. UNIDAD MORELIA-Oferta=23-Minimos=65',\n",
       "       'Febrero 2020 : (130)  ING. EN TELECOMUNICACIONES, SISTEMAS Y ELECTRONICA-FES CUAUTITLAN-Oferta=60-Minimos=67',\n",
       "       'Febrero 2020 : (137)  INGENIERIA AMBIENTAL-FACULTAD DE INGENIERIA-Oferta=13-Minimos=103',\n",
       "       'Febrero 2020 : (107)  INGENIERIA CIVIL-FACULTAD DE INGENIERIA-Oferta=100-Minimos=85',\n",
       "       'Febrero 2020 : (107)  INGENIERIA CIVIL-FES ACATLAN-Oferta=74-Minimos=68',\n",
       "       'Febrero 2020 : (107)  INGENIERIA CIVIL-FES ARAGON-Oferta=100-Minimos=68',\n",
       "       'Febrero 2020 : (108)  INGENIERIA DE MINAS Y METALURGIA-FACULTAD DE INGENIERIA-Oferta=15-Minimos=91',\n",
       "       'Febrero 2020 : (109)  INGENIERIA ELECTRICA ELECTRONICA-FACULTAD DE INGENIERIA-Oferta=75-Minimos=95',\n",
       "       'Febrero 2020 : (109)  INGENIERIA ELECTRICA ELECTRONICA-FES ARAGON-Oferta=43-Minimos=75',\n",
       "       'Febrero 2020 : (110)  INGENIERIA EN COMPUTACION-FACULTAD DE INGENIERIA-Oferta=85-Minimos=95',\n",
       "       'Febrero 2020 : (110)  INGENIERIA EN COMPUTACION-FES ARAGON-Oferta=60-Minimos=79',\n",
       "       'Febrero 2020 : (112)  INGENIERIA GEOFISICA-FACULTAD DE INGENIERIA-Oferta=15-Minimos=88',\n",
       "       'Febrero 2020 : (113)  INGENIERIA GEOLOGICA-FACULTAD DE INGENIERIA-Oferta=20-Minimos=82',\n",
       "       'Febrero 2020 : (120)  INGENIERIA GEOMATICA-FACULTAD DE INGENIERIA-Oferta=17-Minimos=77',\n",
       "       'Febrero 2020 : (114)  INGENIERIA INDUSTRIAL-FACULTAD DE INGENIERIA-Oferta=45-Minimos=94',\n",
       "       'Febrero 2020 : (114)  INGENIERIA INDUSTRIAL-FES CUAUTITLAN-Oferta=25-Minimos=74',\n",
       "       'Febrero 2020 : (114)  INGENIERIA INDUSTRIAL-FES ARAGON-Oferta=34-Minimos=76',\n",
       "       'Febrero 2020 : (115)  INGENIERIA MECANICA-FACULTAD DE INGENIERIA-Oferta=46-Minimos=99',\n",
       "       'Febrero 2020 : (115)  INGENIERIA MECANICA-FES ARAGON-Oferta=26-Minimos=84',\n",
       "       'Febrero 2020 : (116)  INGENIERIA MECANICA ELECTRICA-FES CUAUTITLAN-Oferta=76-Minimos=74',\n",
       "       'Febrero 2020 : (117)  INGENIERIA PETROLERA-FACULTAD DE INGENIERIA-Oferta=42-Minimos=84',\n",
       "       'Febrero 2020 : (118)  INGENIERIA QUIMICA-FACULTAD DE QUIMICA-Oferta=30-Minimos=104',\n",
       "       'Febrero 2020 : (118)  INGENIERIA QUIMICA-FES CUAUTITLAN-Oferta=46-Minimos=77',\n",
       "       'Febrero 2020 : (118)  INGENIERIA QUIMICA-FES ZARAGOZA-Oferta=78-Minimos=75',\n",
       "       'Febrero 2020 : (119)  INGENIERIA QUIMICA METALURGICA-FACULTAD DE QUIMICA-Oferta=20-Minimos=96',\n",
       "       'Febrero 2020 : (122)  MATEMATICAS-FACULTAD DE CIENCIAS-Oferta=86-Minimos=100',\n",
       "       'Febrero 2020 : (136)  MATEMATICAS APLICADAS-FACULTAD DE CIENCIAS-Oferta=23-Minimos=106',\n",
       "       'Febrero 2020 : (121)  MATEMATICAS APLICADAS Y COMPUTACION-FES ACATLAN-Oferta=178-Minimos=66',\n",
       "       'Febrero 2020 : (132)  TECNOLOGIAS PARA LA INFORMACION EN CIENCIAS-ESCUELA NAL. DE ESTUDIOS SUP. UNIDAD MORELIA-Oferta=26-Minimos=67',\n",
       "       'Febrero 2020 : (123)  URBANISMO-FACULTAD DE ARQUITECTURA-Oferta=15-Minimos=85',\n",
       "       'Febrero 2020 : (201)  BIOLOGIA-FACULTAD DE CIENCIAS-Oferta=95-Minimos=99',\n",
       "       'Febrero 2020 : (201)  BIOLOGIA-FES IZTACALA-Oferta=75-Minimos=84',\n",
       "       'Febrero 2020 : (201)  BIOLOGIA-FES ZARAGOZA-Oferta=80-Minimos=80',\n",
       "       'Febrero 2020 : (218)  BIOQUIMICA DIAGNOSTICA-FES CUAUTITLAN-Oferta=15-Minimos=98',\n",
       "       'Febrero 2020 : (230)  CIENCIAS AGROFORESTALES-ESCUELA NAL. DE ESTUDIOS SUP. UNIDAD MORELIA-Oferta=15-Minimos=58',\n",
       "       'Febrero 2020 : (216)  CIENCIAS AMBIENTALES-ESCUELA NAL. DE ESTUDIOS SUP. UNIDAD MORELIA-Oferta=85-Minimos=49',\n",
       "       'Febrero 2020 : (216)  CIENCIAS AMBIENTALES-ESCUELA NAL. DE ESTUDIOS SUP. UNIDAD MERIDA-Oferta=25-Minimos=67',\n",
       "       'Febrero 2020 : (202)  CIRUJANO DENTISTA-FACULTAD DE ODONTOLOGIA-Oferta=91-Minimos=89',\n",
       "       'Febrero 2020 : (202)  CIRUJANO DENTISTA-FES IZTACALA-Oferta=90-Minimos=84',\n",
       "       'Febrero 2020 : (202)  CIRUJANO DENTISTA-FES ZARAGOZA-Oferta=70-Minimos=86',\n",
       "       'Febrero 2020 : (220)  ENFERMERIA-ESCUELA NACIONAL DE ENFERMERIA Y OBSTETRICIA-Oferta=95-Minimos=75',\n",
       "       'Febrero 2020 : (220)  ENFERMERIA-FES IZTACALA-Oferta=98-Minimos=75',\n",
       "       'Febrero 2020 : (220)  ENFERMERIA-FES ZARAGOZA-Oferta=120-Minimos=76',\n",
       "       'Febrero 2020 : (203)  ENFERMERIA Y OBSTETRICIA-ESCUELA NACIONAL DE ENFERMERIA Y OBSTETRICIA-Oferta=55-Minimos=86',\n",
       "       'Febrero 2020 : (219)  FARMACIA-FES CUAUTITLAN-Oferta=52-Minimos=71',\n",
       "       'Febrero 2020 : (221)  FISIOTERAPIA-ESCUELA NAL. DE ESTUDIOS SUP. UNIDAD LEON-Oferta=46-Minimos=80',\n",
       "       'Febrero 2020 : (204)  INGENIERIA AGRICOLA-FES CUAUTITLAN-Oferta=50-Minimos=66',\n",
       "       'Febrero 2020 : (205)  INGENIERIA EN ALIMENTOS-FES CUAUTITLAN-Oferta=86-Minimos=63',\n",
       "       'Febrero 2020 : (217)  MANEJO SUSTENTABLE DE ZONAS COSTERAS-ESCUELA NAL. DE ESTUDIOS SUP. UNIDAD MERIDA-Oferta=30-Minimos=56',\n",
       "       'Febrero 2020 : (207)  MEDICINA VETERINARIA Y ZOOTECNIA-FACULTAD DE MEDICINA VETERINARIA Y ZOOTECNIA-Oferta=65-Minimos=97',\n",
       "       'Febrero 2020 : (207)  MEDICINA VETERINARIA Y ZOOTECNIA-FES CUAUTITLAN-Oferta=84-Minimos=84',\n",
       "       'Febrero 2020 : (208)  MEDICO CIRUJANO-FACULTAD DE MEDICINA-Oferta=140-Minimos=110',\n",
       "       'Febrero 2020 : (208)  MEDICO CIRUJANO-FES IZTACALA-Oferta=82-Minimos=105',\n",
       "       'Febrero 2020 : (208)  MEDICO CIRUJANO-FES ZARAGOZA-Oferta=38-Minimos=104',\n",
       "       'Febrero 2020 : (227)  NUTRIOLOGIA-FES ZARAGOZA-Oferta=15-Minimos=97',\n",
       "       'Febrero 2020 : (222)  ODONTOLOGIA-ESCUELA NAL. DE ESTUDIOS SUP. UNIDAD LEON-Oferta=60-Minimos=77',\n",
       "       'Febrero 2020 : (209)  OPTOMETRIA-FES IZTACALA-Oferta=32-Minimos=70',\n",
       "       'Febrero 2020 : (209)  OPTOMETRIA-ESCUELA NAL. DE ESTUDIOS SUP. UNIDAD LEON-Oferta=25-Minimos=72',\n",
       "       'Febrero 2020 : (210)  PSICOLOGIA-FACULTAD DE PSICOLOGIA-Oferta=55-Minimos=100',\n",
       "       'Febrero 2020 : (210)  PSICOLOGIA-FES IZTACALA-Oferta=82-Minimos=77',\n",
       "       'Febrero 2020 : (210)  PSICOLOGIA-FES ZARAGOZA-Oferta=75-Minimos=80',\n",
       "       'Febrero 2020 : (211)  QUIMICA-FACULTAD DE QUIMICA-Oferta=20-Minimos=105',\n",
       "       'Febrero 2020 : (211)  QUIMICA-FES CUAUTITLAN-Oferta=26-Minimos=82',\n",
       "       'Febrero 2020 : (212)  QUIMICA DE ALIMENTOS-FACULTAD DE QUIMICA-Oferta=30-Minimos=101',\n",
       "       'Febrero 2020 : (213)  QUIMICA FARMACEUTICO BIOLOGICA-FACULTAD DE QUIMICA-Oferta=40-Minimos=106',\n",
       "       'Febrero 2020 : (213)  QUIMICA FARMACEUTICO BIOLOGICA-FES ZARAGOZA-Oferta=35-Minimos=97',\n",
       "       'Febrero 2020 : (214)  QUIMICA INDUSTRIAL-FES CUAUTITLAN-Oferta=40-Minimos=75',\n",
       "       'Febrero 2020 : (301)  ADMINISTRACION-FACULTAD DE CONTADURIA Y ADMINISTRACION-Oferta=290-Minimos=89',\n",
       "       'Febrero 2020 : (301)  ADMINISTRACION-FES CUAUTITLAN-Oferta=155-Minimos=70',\n",
       "       'Febrero 2020 : (314)  ADMINISTRACION AGROPECUARIA-ESCUELA NAL. DE ESTUDIOS SUP. UNIDAD LEON-Oferta=40-Minimos=41',\n",
       "       'Febrero 2020 : (319)  ANTROPOLOGIA-FACULTAD DE CIENCIAS POLITICAS Y SOCIALES-Oferta=70-Minimos=81',\n",
       "       'Febrero 2020 : (302)  CIENCIAS DE LA COMUNICACION-FACULTAD DE CIENCIAS POLITICAS Y SOCIALES-Oferta=62-Minimos=96',\n",
       "       'Febrero 2020 : (303)  CIENCIAS POLITICAS Y ADMON PUBLICA-FACULTAD DE CIENCIAS POLITICAS Y SOCIALES-Oferta=50-Minimos=94',\n",
       "       'Febrero 2020 : (303)  CIENCIAS POLITICAS Y ADMON PUBLICA-FES ACATLAN-Oferta=50-Minimos=79',\n",
       "       'Febrero 2020 : (315)  COMUNICACION-FES ACATLAN-Oferta=52-Minimos=86',\n",
       "       'Febrero 2020 : (316)  COMUNICACION Y PERIODISMO-FES ARAGON-Oferta=90-Minimos=80',\n",
       "       'Febrero 2020 : (304)  CONTADURIA-FACULTAD DE CONTADURIA Y ADMINISTRACION-Oferta=400-Minimos=87',\n",
       "       'Febrero 2020 : (304)  CONTADURIA-FES CUAUTITLAN-Oferta=205-Minimos=66',\n",
       "       'Febrero 2020 : (305)  DERECHO-FACULTAD DE DERECHO-Oferta=350-Minimos=89',\n",
       "       'Febrero 2020 : (305)  DERECHO-FES ACATLAN-Oferta=130-Minimos=77',\n",
       "       'Febrero 2020 : (305)  DERECHO-FES ARAGON-Oferta=170-Minimos=81',\n",
       "       'Febrero 2020 : (318)  DESARROLLO COMUNITARIO PARA EL ENVEJECIMIENTO-FES ZARAGOZA-Oferta=40-Minimos=40',\n",
       "       'Febrero 2020 : (320)  DESARROLLO TERRITORIAL-ESCUELA NAL. DE ESTUDIOS SUP. UNIDAD LEON-Oferta=42-Minimos=43',\n",
       "       'Febrero 2020 : (306)  ECONOMIA-FACULTAD DE ECONOMIA-Oferta=320-Minimos=80',\n",
       "       'Febrero 2020 : (306)  ECONOMIA-FES ACATLAN-Oferta=95-Minimos=72',\n",
       "       'Febrero 2020 : (306)  ECONOMIA-FES ARAGON-Oferta=90-Minimos=75',\n",
       "       'Febrero 2020 : (313)  ECONOMIA INDUSTRIAL-ESCUELA NAL. DE ESTUDIOS SUP. UNIDAD LEON-Oferta=30-Minimos=76',\n",
       "       'Febrero 2020 : (317)  ESTUDIOS SOCIALES Y GESTION LOCAL-ESCUELA NAL. DE ESTUDIOS SUP. UNIDAD MORELIA-Oferta=30-Minimos=46',\n",
       "       'Febrero 2020 : (307)  GEOGRAFIA-FACULTAD DE FILOSOFIA Y LETRAS-Oferta=25-Minimos=84',\n",
       "       'Febrero 2020 : (322)  GEOGRAFIA APLICADA-ESCUELA NACIONAL DE CIENCIAS DE LA TIERRA-Oferta=10-Minimos=58',\n",
       "       'Febrero 2020 : (322)  GEOGRAFIA APLICADA-ESCUELA NAL. DE ESTUDIOS SUP. UNIDAD MERIDA-Oferta=20-Minimos=42',\n",
       "       'Febrero 2020 : (308)  INFORMATICA-FES CUAUTITLAN-Oferta=55-Minimos=69',\n",
       "       'Febrero 2020 : (309)  PLANIF PARA EL DESARROLLO AGROPECUARIO-FES ARAGON-Oferta=65-Minimos=51',\n",
       "       'Febrero 2020 : (310)  RELACIONES INTERNACIONALES-FACULTAD DE CIENCIAS POLITICAS Y SOCIALES-Oferta=40-Minimos=102',\n",
       "       'Febrero 2020 : (310)  RELACIONES INTERNACIONALES-FES ACATLAN-Oferta=40-Minimos=88',\n",
       "       'Febrero 2020 : (310)  RELACIONES INTERNACIONALES-FES ARAGON-Oferta=45-Minimos=89',\n",
       "       'Febrero 2020 : (311)  SOCIOLOGIA-FACULTAD DE CIENCIAS POLITICAS Y SOCIALES-Oferta=48-Minimos=80',\n",
       "       'Febrero 2020 : (311)  SOCIOLOGIA-FES ACATLAN-Oferta=30-Minimos=66',\n",
       "       'Febrero 2020 : (311)  SOCIOLOGIA-FES ARAGON-Oferta=30-Minimos=59',\n",
       "       'Febrero 2020 : (312)  TRABAJO SOCIAL-ESCUELA NACIONAL DE TRABAJO SOCIAL-Oferta=200-Minimos=64',\n",
       "       'Febrero 2020 : (437)  ADMINISTRACION DE ARCHIVOS Y GESTION DOCUMENTAL-FACULTAD DE FILOSOFIA Y LETRAS-Oferta=10-Minimos=63',\n",
       "       'Febrero 2020 : (437)  ADMINISTRACION DE ARCHIVOS Y GESTION DOCUMENTAL-ESCUELA NAL. DE ESTUDIOS SUP. UNIDAD MORELIA-Oferta=20-Minimos=47',\n",
       "       'Febrero 2020 : (434)  ARTE Y DISEÑO-PLANTEL TAXCO, GRO-Oferta=12-Minimos=77',\n",
       "       'Febrero 2020 : (434)  ARTE Y DISEÑO-ESCUELA NAL. DE ESTUDIOS SUP. UNIDAD MORELIA-Oferta=25-Minimos=83',\n",
       "       'Febrero 2020 : (401)  ARTES VISUALES-FACULTAD DE ARTES Y DISEÑO-Oferta=20-Minimos=104',\n",
       "       'Febrero 2020 : (402)  BIBLIOTECOLOGIA Y ESTUDIOS DE LA INFORMACION-FACULTAD DE FILOSOFIA Y LETRAS-Oferta=30-Minimos=68',\n",
       "       'Febrero 2020 : (403)  CANTO-FACULTAD DE MUSICA-Oferta=10-Minimos=61',\n",
       "       'Febrero 2020 : (404)  COMPOSICION-FACULTAD DE MUSICA-Oferta=17-Minimos=71',\n",
       "       'Febrero 2020 : (429)  DESARROLLO Y GESTION INTERCULTURALES-FACULTAD DE FILOSOFIA Y LETRAS-Oferta=10-Minimos=90',\n",
       "       'Febrero 2020 : (429)  DESARROLLO Y GESTION INTERCULTURALES-ESCUELA NAL. DE ESTUDIOS SUP. UNIDAD LEON-Oferta=30-Minimos=42',\n",
       "       'Febrero 2020 : (429)  DESARROLLO Y GESTION INTERCULTURALES-ESCUELA NAL. DE ESTUDIOS SUP. UNIDAD MERIDA-Oferta=30-Minimos=40',\n",
       "       'Febrero 2020 : (406)  DISEÑO GRAFICO-FES ACATLAN-Oferta=25-Minimos=91',\n",
       "       'Febrero 2020 : (405)  DISEÑO Y COMUNICACION VISUAL-FACULTAD DE ARTES Y DISEÑO-Oferta=40-Minimos=101',\n",
       "       'Febrero 2020 : (405)  DISEÑO Y COMUNICACION VISUAL-FES CUAUTITLAN-Oferta=12-Minimos=99',\n",
       "       'Febrero 2020 : (407)  EDUCACION MUSICAL-FACULTAD DE MUSICA-Oferta=23-Minimos=55',\n",
       "       'Febrero 2020 : (408)  ENSEÑANZA DE INGLES-FES ACATLAN-Oferta=75-Minimos=65',\n",
       "       'Febrero 2020 : (409)  ESTUDIOS LATINOAMERICANOS-FACULTAD DE FILOSOFIA Y LETRAS-Oferta=20-Minimos=84',\n",
       "       'Febrero 2020 : (410)  ETNOMUSICOLOGIA-FACULTAD DE MUSICA-Oferta=10-Minimos=54',\n",
       "       'Febrero 2020 : (411)  FILOSOFIA-FACULTAD DE FILOSOFIA Y LETRAS-Oferta=26-Minimos=97',\n",
       "       'Febrero 2020 : (411)  FILOSOFIA-FES ACATLAN-Oferta=30-Minimos=76',\n",
       "       'Febrero 2020 : (431)  GEOHISTORIA-ESCUELA NAL. DE ESTUDIOS SUP. UNIDAD MORELIA-Oferta=20-Minimos=40',\n",
       "       'Febrero 2020 : (412)  HISTORIA-FACULTAD DE FILOSOFIA Y LETRAS-Oferta=20-Minimos=96',\n",
       "       'Febrero 2020 : (412)  HISTORIA-FES ACATLAN-Oferta=30-Minimos=78',\n",
       "       'Febrero 2020 : (433)  HISTORIA DEL ARTE-ESCUELA NAL. DE ESTUDIOS SUP. UNIDAD MORELIA-Oferta=25-Minimos=59',\n",
       "       'Febrero 2020 : (413)  INSTRUMENTISTA-FACULTAD DE MUSICA-Oferta=70-Minimos=47',\n",
       "       'Febrero 2020 : (414)  LENGUA Y LITERATURAS HISPANICAS-FACULTAD DE FILOSOFIA Y LETRAS-Oferta=30-Minimos=93',\n",
       "       'Febrero 2020 : (414)  LENGUA Y LITERATURAS HISPANICAS-FES ACATLAN-Oferta=20-Minimos=77',\n",
       "       'Febrero 2020 : (415)  LENGUA Y LITERATURAS MODERNAS (LETRAS ALEMANAS)-FACULTAD DE FILOSOFIA Y LETRAS-Oferta=17-Minimos=40',\n",
       "       'Febrero 2020 : (416)  LENGUA Y LITERATURAS MODERNAS (LETRAS FRANCESAS)-FACULTAD DE FILOSOFIA Y LETRAS-Oferta=27-Minimos=46',\n",
       "       'Febrero 2020 : (417)  LENGUA Y LITERATURAS MODERNAS (LETRAS INGLESAS)-FACULTAD DE FILOSOFIA Y LETRAS-Oferta=85-Minimos=66',\n",
       "       'Febrero 2020 : (418)  LENGUA Y LITERATURAS MODERNAS (LETRAS ITALIANAS)-FACULTAD DE FILOSOFIA Y LETRAS-Oferta=17-Minimos=60',\n",
       "       'Febrero 2020 : (430)  LENGUA Y LITERATURAS MODERNAS (LETRAS PORTUGUESAS)-FACULTAD DE FILOSOFIA Y LETRAS-Oferta=12-Minimos=41',\n",
       "       'Febrero 2020 : (419)  LETRAS CLASICAS-FACULTAD DE FILOSOFIA Y LETRAS-Oferta=10-Minimos=92',\n",
       "       'Febrero 2020 : (439)  LINGÜISTICA APLICADA-ESCUELA NACIONAL DE LENGUAS,LINGUISTICA Y TRADUCCIÓN-Oferta=12-Minimos=93',\n",
       "       'Febrero 2020 : (420)  LITERATURA DRAMATICA Y TEATRO-FACULTAD DE FILOSOFIA Y LETRAS-Oferta=16-Minimos=99',\n",
       "       'Febrero 2020 : (432)  LITERATURA INTERCULTURAL-ESCUELA NAL. DE ESTUDIOS SUP. UNIDAD MORELIA-Oferta=30-Minimos=48',\n",
       "       'Febrero 2020 : (438)  MUSICA Y TECNOLOGIA ARTISTICA-ESCUELA NAL. DE ESTUDIOS SUP. UNIDAD MORELIA-Oferta=12-Minimos=83',\n",
       "       'Febrero 2020 : (421)  PEDAGOGIA-FACULTAD DE FILOSOFIA Y LETRAS-Oferta=70-Minimos=78',\n",
       "       'Febrero 2020 : (421)  PEDAGOGIA-FES ACATLAN-Oferta=40-Minimos=76',\n",
       "       'Febrero 2020 : (421)  PEDAGOGIA-FES ARAGON-Oferta=70-Minimos=75',\n",
       "       'Febrero 2020 : (422)  PIANO-FACULTAD DE MUSICA-Oferta=21-Minimos=60',\n",
       "       'Febrero 2020 : (436)  TEATRO Y ACTUACION-FACULTAD DE MUSICA-Oferta=150-Minimos=75',\n",
       "       'Febrero 2020 : (440)  TRADUCCION-ESCUELA NACIONAL DE LENGUAS,LINGUISTICA Y TRADUCCIÓN-Oferta=10-Minimos=108',\n",
       "       'Febrero 2020 : (440)  TRADUCCION-ESCUELA NAL. DE ESTUDIOS SUP. UNIDAD LEON, Sede: SAN MIGUEL DE ALLENDE, GUANAJUATO-Oferta=15-Minimos=56',\n",
       "       'Junio 2020 : (101)  ACTUARIA-FACULTAD DE CIENCIAS-Oferta=18-Minimos=111',\n",
       "       'Junio 2020 : (101)  ACTUARIA-FES ACATLAN-Oferta=15-Minimos=105',\n",
       "       'Junio 2020 : (102)  ARQUITECTURA-FACULTAD DE ARQUITECTURA-Oferta=70-Minimos=98',\n",
       "       'Junio 2020 : (102)  ARQUITECTURA-FES ACATLAN-Oferta=23-Minimos=94',\n",
       "       'Junio 2020 : (102)  ARQUITECTURA-FES ARAGON-Oferta=35-Minimos=86',\n",
       "       'Junio 2020 : (103)  ARQUITECTURA DE PAISAJE-FACULTAD DE ARQUITECTURA-Oferta=10-Minimos=91',\n",
       "       'Junio 2020 : (133)  CIENCIA DE MATERIALES SUSTENTABLES-ESCUELA NAL. DE ESTUDIOS SUP. UNIDAD MORELIA-Oferta=16-Minimos=47',\n",
       "       'Junio 2020 : (104)  CIENCIAS DE LA COMPUTACION-FACULTAD DE CIENCIAS-Oferta=15-Minimos=108',\n",
       "       'Junio 2020 : (127)  CIENCIAS DE LA TIERRA-ESCUELA NACIONAL DE CIENCIAS DE LA TIERRA-Oferta=10-Minimos=103',\n",
       "       'Junio 2020 : (127)  CIENCIAS DE LA TIERRA-ESCUELA NAL. DE ESTUDIOS SUP. UNIDAD MERIDA-Oferta=12-Minimos=62',\n",
       "       'Junio 2020 : (127)  CIENCIAS DE LA TIERRA-ESCUELA NAL. DE ESTUDIOS SUP. UNIDAD JURIQUILLA-Oferta=10-Minimos=82',\n",
       "       'Junio 2020 : (105)  DISEÑO INDUSTRIAL-FES ARAGON-Oferta=5-Minimos=95',\n",
       "       'Junio 2020 : (106)  FISICA-FACULTAD DE CIENCIAS-Oferta=10-Minimos=116',\n",
       "       'Junio 2020 : (134)  FISICA BIOMEDICA-FACULTAD DE CIENCIAS-Oferta=5-Minimos=112',\n",
       "       'Junio 2020 : (131)  GEOCIENCIAS-ESCUELA NAL. DE ESTUDIOS SUP. UNIDAD MORELIA-Oferta=9-Minimos=65',\n",
       "       'Junio 2020 : (130)  ING. EN TELECOMUNICACIONES, SISTEMAS Y ELECTRONICA-FES CUAUTITLAN-Oferta=30-Minimos=72',\n",
       "       'Junio 2020 : (139)  INGENIERIA AEROESPACIAL-FACULTAD DE INGENIERIA-Oferta=10-Minimos=116',\n",
       "       'Junio 2020 : (137)  INGENIERIA AMBIENTAL-FACULTAD DE INGENIERIA-Oferta=6-Minimos=107',\n",
       "       'Junio 2020 : (107)  INGENIERIA CIVIL-FACULTAD DE INGENIERIA-Oferta=30-Minimos=96',\n",
       "       'Junio 2020 : (107)  INGENIERIA CIVIL-FES ACATLAN-Oferta=30-Minimos=78',\n",
       "       'Junio 2020 : (107)  INGENIERIA CIVIL-FES ARAGON-Oferta=50-Minimos=75',\n",
       "       'Junio 2020 : (108)  INGENIERIA DE MINAS Y METALURGIA-FACULTAD DE INGENIERIA-Oferta=10-Minimos=81',\n",
       "       'Junio 2020 : (109)  INGENIERIA ELECTRICA ELECTRONICA-FACULTAD DE INGENIERIA-Oferta=40-Minimos=99',\n",
       "       'Junio 2020 : (109)  INGENIERIA ELECTRICA ELECTRONICA-FES ARAGON-Oferta=20-Minimos=86',\n",
       "       'Junio 2020 : (110)  INGENIERIA EN COMPUTACION-FACULTAD DE INGENIERIA-Oferta=35-Minimos=101',\n",
       "       'Junio 2020 : (110)  INGENIERIA EN COMPUTACION-FES ARAGON-Oferta=22-Minimos=90',\n",
       "       'Junio 2020 : (112)  INGENIERIA GEOFISICA-FACULTAD DE INGENIERIA-Oferta=7-Minimos=104',\n",
       "       'Junio 2020 : (113)  INGENIERIA GEOLOGICA-FACULTAD DE INGENIERIA-Oferta=10-Minimos=95',\n",
       "       'Junio 2020 : (120)  INGENIERIA GEOMATICA-FACULTAD DE INGENIERIA-Oferta=9-Minimos=94',\n",
       "       'Junio 2020 : (114)  INGENIERIA INDUSTRIAL-FACULTAD DE INGENIERIA-Oferta=26-Minimos=99',\n",
       "       'Junio 2020 : (114)  INGENIERIA INDUSTRIAL-FES CUAUTITLAN-Oferta=16-Minimos=81',\n",
       "       'Junio 2020 : (114)  INGENIERIA INDUSTRIAL-FES ARAGON-Oferta=16-Minimos=89',\n",
       "       'Junio 2020 : (115)  INGENIERIA MECANICA-FACULTAD DE INGENIERIA-Oferta=18-Minimos=105',\n",
       "       'Junio 2020 : (115)  INGENIERIA MECANICA-FES ARAGON-Oferta=13-Minimos=87',\n",
       "       'Junio 2020 : (116)  INGENIERIA MECANICA ELECTRICA-FES CUAUTITLAN-Oferta=30-Minimos=77',\n",
       "       'Junio 2020 : (117)  INGENIERIA PETROLERA-FACULTAD DE INGENIERIA-Oferta=20-Minimos=87',\n",
       "       'Junio 2020 : (118)  INGENIERIA QUIMICA-FACULTAD DE QUIMICA-Oferta=20-Minimos=108',\n",
       "       'Junio 2020 : (118)  INGENIERIA QUIMICA-FES CUAUTITLAN-Oferta=20-Minimos=86',\n",
       "       'Junio 2020 : (118)  INGENIERIA QUIMICA-FES ZARAGOZA-Oferta=30-Minimos=89',\n",
       "       'Junio 2020 : (119)  INGENIERIA QUIMICA METALURGICA-FACULTAD DE QUIMICA-Oferta=8-Minimos=108',\n",
       "       'Junio 2020 : (122)  MATEMATICAS-FACULTAD DE CIENCIAS-Oferta=35-Minimos=107',\n",
       "       'Junio 2020 : (136)  MATEMATICAS APLICADAS-FACULTAD DE CIENCIAS-Oferta=10-Minimos=108',\n",
       "       'Junio 2020 : (121)  MATEMATICAS APLICADAS Y COMPUTACION-FES ACATLAN-Oferta=85-Minimos=76',\n",
       "       'Junio 2020 : (132)  TECNOLOGIAS PARA LA INFORMACION EN CIENCIAS-ESCUELA NAL. DE ESTUDIOS SUP. UNIDAD MORELIA-Oferta=15-Minimos=65',\n",
       "       'Junio 2020 : (123)  URBANISMO-FACULTAD DE ARQUITECTURA-Oferta=10-Minimos=86',\n",
       "       'Junio 2020 : (201)  BIOLOGIA-FACULTAD DE CIENCIAS-Oferta=35-Minimos=105',\n",
       "       'Junio 2020 : (201)  BIOLOGIA-FES IZTACALA-Oferta=35-Minimos=96',\n",
       "       'Junio 2020 : (201)  BIOLOGIA-FES ZARAGOZA-Oferta=35-Minimos=93',\n",
       "       'Junio 2020 : (218)  BIOQUIMICA DIAGNOSTICA-FES CUAUTITLAN-Oferta=10-Minimos=101',\n",
       "       'Junio 2020 : (230)  CIENCIAS AGROFORESTALES-ESCUELA NAL. DE ESTUDIOS SUP. UNIDAD MORELIA-Oferta=10-Minimos=58',\n",
       "       'Junio 2020 : (216)  CIENCIAS AMBIENTALES-ESCUELA NAL. DE ESTUDIOS SUP. UNIDAD MORELIA-Oferta=41-Minimos=43',\n",
       "       'Junio 2020 : (216)  CIENCIAS AMBIENTALES-ESCUELA NAL. DE ESTUDIOS SUP. UNIDAD MERIDA-Oferta=20-Minimos=63',\n",
       "       'Junio 2020 : (202)  CIRUJANO DENTISTA-FACULTAD DE ODONTOLOGIA-Oferta=25-Minimos=103',\n",
       "       'Junio 2020 : (202)  CIRUJANO DENTISTA-FES IZTACALA-Oferta=40-Minimos=96',\n",
       "       'Junio 2020 : (202)  CIRUJANO DENTISTA-FES ZARAGOZA-Oferta=30-Minimos=95',\n",
       "       'Junio 2020 : (220)  ENFERMERIA-ESCUELA NACIONAL DE ENFERMERIA Y OBSTETRICIA-Oferta=35-Minimos=92',\n",
       "       'Junio 2020 : (220)  ENFERMERIA-FES IZTACALA-Oferta=32-Minimos=93',\n",
       "       'Junio 2020 : (220)  ENFERMERIA-FES ZARAGOZA-Oferta=35-Minimos=90',\n",
       "       'Junio 2020 : (203)  ENFERMERIA Y OBSTETRICIA-ESCUELA NACIONAL DE ENFERMERIA Y OBSTETRICIA-Oferta=20-Minimos=95',\n",
       "       'Junio 2020 : (219)  FARMACIA-FES CUAUTITLAN-Oferta=21-Minimos=90',\n",
       "       'Junio 2020 : (221)  FISIOTERAPIA-ESCUELA NAL. DE ESTUDIOS SUP. UNIDAD LEON-Oferta=15-Minimos=80',\n",
       "       'Junio 2020 : (204)  INGENIERIA AGRICOLA-FES CUAUTITLAN-Oferta=19-Minimos=81',\n",
       "       'Junio 2020 : (205)  INGENIERIA EN ALIMENTOS-FES CUAUTITLAN-Oferta=35-Minimos=84',\n",
       "       'Junio 2020 : (217)  MANEJO SUSTENTABLE DE ZONAS COSTERAS-ESCUELA NAL. DE ESTUDIOS SUP. UNIDAD MERIDA-Oferta=20-Minimos=55',\n",
       "       'Junio 2020 : (207)  MEDICINA VETERINARIA Y ZOOTECNIA-FACULTAD DE MEDICINA VETERINARIA Y ZOOTECNIA-Oferta=20-Minimos=106',\n",
       "       'Junio 2020 : (207)  MEDICINA VETERINARIA Y ZOOTECNIA-FES CUAUTITLAN-Oferta=15-Minimos=99',\n",
       "       'Junio 2020 : (208)  MEDICO CIRUJANO-FACULTAD DE MEDICINA-Oferta=38-Minimos=115',\n",
       "       'Junio 2020 : (208)  MEDICO CIRUJANO-FES IZTACALA-Oferta=18-Minimos=113',\n",
       "       'Junio 2020 : (208)  MEDICO CIRUJANO-FES ZARAGOZA-Oferta=11-Minimos=111',\n",
       "       'Junio 2020 : (227)  NUTRIOLOGIA-FES ZARAGOZA-Oferta=8-Minimos=104',\n",
       "       'Junio 2020 : (222)  ODONTOLOGIA-ESCUELA NAL. DE ESTUDIOS SUP. UNIDAD LEON-Oferta=10-Minimos=90',\n",
       "       'Junio 2020 : (209)  OPTOMETRIA-FES IZTACALA-Oferta=15-Minimos=83',\n",
       "       'Junio 2020 : (209)  OPTOMETRIA-ESCUELA NAL. DE ESTUDIOS SUP. UNIDAD LEON-Oferta=22-Minimos=62',\n",
       "       'Junio 2020 : (210)  PSICOLOGIA-FACULTAD DE PSICOLOGIA-Oferta=25-Minimos=105',\n",
       "       'Junio 2020 : (210)  PSICOLOGIA-FES IZTACALA-Oferta=30-Minimos=95',\n",
       "       'Junio 2020 : (210)  PSICOLOGIA-FES ZARAGOZA-Oferta=30-Minimos=93',\n",
       "       'Junio 2020 : (211)  QUIMICA-FACULTAD DE QUIMICA-Oferta=10-Minimos=111',\n",
       "       'Junio 2020 : (211)  QUIMICA-FES CUAUTITLAN-Oferta=12-Minimos=102',\n",
       "       'Junio 2020 : (212)  QUIMICA DE ALIMENTOS-FACULTAD DE QUIMICA-Oferta=15-Minimos=108',\n",
       "       'Junio 2020 : (213)  QUIMICA FARMACEUTICO BIOLOGICA-FACULTAD DE QUIMICA-Oferta=20-Minimos=111',\n",
       "       'Junio 2020 : (213)  QUIMICA FARMACEUTICO BIOLOGICA-FES ZARAGOZA-Oferta=20-Minimos=104',\n",
       "       'Junio 2020 : (214)  QUIMICA INDUSTRIAL-FES CUAUTITLAN-Oferta=20-Minimos=86',\n",
       "       'Junio 2020 : (301)  ADMINISTRACION-FACULTAD DE CONTADURIA Y ADMINISTRACION-Oferta=100-Minimos=100',\n",
       "       'Junio 2020 : (301)  ADMINISTRACION-FES CUAUTITLAN-Oferta=80-Minimos=77',\n",
       "       'Junio 2020 : (314)  ADMINISTRACION AGROPECUARIA-ESCUELA NAL. DE ESTUDIOS SUP. UNIDAD LEON-Oferta=24-Minimos=40',\n",
       "       'Junio 2020 : (319)  ANTROPOLOGIA-FACULTAD DE CIENCIAS POLITICAS Y SOCIALES-Oferta=30-Minimos=97',\n",
       "       'Junio 2020 : (302)  CIENCIAS DE LA COMUNICACION-FACULTAD DE CIENCIAS POLITICAS Y SOCIALES-Oferta=15-Minimos=107',\n",
       "       'Junio 2020 : (303)  CIENCIAS POLITICAS Y ADMON PUBLICA-FACULTAD DE CIENCIAS POLITICAS Y SOCIALES-Oferta=15-Minimos=103',\n",
       "       'Junio 2020 : (303)  CIENCIAS POLITICAS Y ADMON PUBLICA-FES ACATLAN-Oferta=20-Minimos=91',\n",
       "       'Junio 2020 : (315)  COMUNICACION-FES ACATLAN-Oferta=24-Minimos=94',\n",
       "       'Junio 2020 : (316)  COMUNICACION Y PERIODISMO-FES ARAGON-Oferta=45-Minimos=93',\n",
       "       'Junio 2020 : (304)  CONTADURIA-FACULTAD DE CONTADURIA Y ADMINISTRACION-Oferta=180-Minimos=96',\n",
       "       'Junio 2020 : (304)  CONTADURIA-FES CUAUTITLAN-Oferta=115-Minimos=76',\n",
       "       'Junio 2020 : (305)  DERECHO-FACULTAD DE DERECHO-Oferta=194-Minimos=94',\n",
       "       'Junio 2020 : (305)  DERECHO-FES ACATLAN-Oferta=65-Minimos=89',\n",
       "       'Junio 2020 : (305)  DERECHO-FES ARAGON-Oferta=65-Minimos=93',\n",
       "       'Junio 2020 : (318)  DESARROLLO COMUNITARIO PARA EL ENVEJECIMIENTO-FES ZARAGOZA-Oferta=35-Minimos=40',\n",
       "       'Junio 2020 : (320)  DESARROLLO TERRITORIAL-ESCUELA NAL. DE ESTUDIOS SUP. UNIDAD LEON-Oferta=48-Minimos=45',\n",
       "       'Junio 2020 : (306)  ECONOMIA-FACULTAD DE ECONOMIA-Oferta=150-Minimos=90',\n",
       "       'Junio 2020 : (306)  ECONOMIA-FES ACATLAN-Oferta=42-Minimos=86',\n",
       "       'Junio 2020 : (306)  ECONOMIA-FES ARAGON-Oferta=35-Minimos=89',\n",
       "       'Junio 2020 : (313)  ECONOMIA INDUSTRIAL-ESCUELA NAL. DE ESTUDIOS SUP. UNIDAD LEON-Oferta=13-Minimos=81',\n",
       "       'Junio 2020 : (317)  ESTUDIOS SOCIALES Y GESTION LOCAL-ESCUELA NAL. DE ESTUDIOS SUP. UNIDAD MORELIA-Oferta=21-Minimos=49',\n",
       "       'Junio 2020 : (307)  GEOGRAFIA-FACULTAD DE FILOSOFIA Y LETRAS-Oferta=10-Minimos=92',\n",
       "       'Junio 2020 : (322)  GEOGRAFIA APLICADA-ESCUELA NACIONAL DE CIENCIAS DE LA TIERRA-Oferta=5-Minimos=98',\n",
       "       'Junio 2020 : (322)  GEOGRAFIA APLICADA-ESCUELA NAL. DE ESTUDIOS SUP. UNIDAD MERIDA-Oferta=21-Minimos=45',\n",
       "       'Junio 2020 : (308)  INFORMATICA-FES CUAUTITLAN-Oferta=20-Minimos=84',\n",
       "       'Junio 2020 : (309)  PLANIF PARA EL DESARROLLO AGROPECUARIO-FES ARAGON-Oferta=28-Minimos=69',\n",
       "       'Junio 2020 : (310)  RELACIONES INTERNACIONALES-FACULTAD DE CIENCIAS POLITICAS Y SOCIALES-Oferta=15-Minimos=108',\n",
       "       'Junio 2020 : (310)  RELACIONES INTERNACIONALES-FES ACATLAN-Oferta=20-Minimos=98',\n",
       "       'Junio 2020 : (310)  RELACIONES INTERNACIONALES-FES ARAGON-Oferta=30-Minimos=97',\n",
       "       'Junio 2020 : (311)  SOCIOLOGIA-FACULTAD DE CIENCIAS POLITICAS Y SOCIALES-Oferta=30-Minimos=89',\n",
       "       'Junio 2020 : (311)  SOCIOLOGIA-FES ACATLAN-Oferta=50-Minimos=63',\n",
       "       'Junio 2020 : (311)  SOCIOLOGIA-FES ARAGON-Oferta=15-Minimos=85',\n",
       "       'Junio 2020 : (312)  TRABAJO SOCIAL-ESCUELA NACIONAL DE TRABAJO SOCIAL-Oferta=125-Minimos=74',\n",
       "       'Junio 2020 : (437)  ADMINISTRACION DE ARCHIVOS Y GESTION DOCUMENTAL-FACULTAD DE FILOSOFIA Y LETRAS-Oferta=5-Minimos=76',\n",
       "       'Junio 2020 : (437)  ADMINISTRACION DE ARCHIVOS Y GESTION DOCUMENTAL-ESCUELA NAL. DE ESTUDIOS SUP. UNIDAD MORELIA-Oferta=21-Minimos=41',\n",
       "       'Junio 2020 : (434)  ARTE Y DISEÑO-PLANTEL TAXCO, GRO-Oferta=8-Minimos=79',\n",
       "       'Junio 2020 : (434)  ARTE Y DISEÑO-ESCUELA NAL. DE ESTUDIOS SUP. UNIDAD MORELIA-Oferta=16-Minimos=79',\n",
       "       'Junio 2020 : (401)  ARTES VISUALES-FACULTAD DE ARTES Y DISEÑO-Oferta=10-Minimos=107',\n",
       "       'Junio 2020 : (402)  BIBLIOTECOLOGIA Y ESTUDIOS DE LA INFORMACION-FACULTAD DE FILOSOFIA Y LETRAS-Oferta=20-Minimos=74',\n",
       "       'Junio 2020 : (403)  CANTO-FACULTAD DE MUSICA-Oferta=7-Minimos=60',\n",
       "       'Junio 2020 : (404)  COMPOSICION-FACULTAD DE MUSICA-Oferta=9-Minimos=51',\n",
       "       'Junio 2020 : (429)  DESARROLLO Y GESTION INTERCULTURALES-FACULTAD DE FILOSOFIA Y LETRAS-Oferta=6-Minimos=90',\n",
       "       'Junio 2020 : (429)  DESARROLLO Y GESTION INTERCULTURALES-ESCUELA NAL. DE ESTUDIOS SUP. UNIDAD LEON-Oferta=23-Minimos=42',\n",
       "       'Junio 2020 : (429)  DESARROLLO Y GESTION INTERCULTURALES-ESCUELA NAL. DE ESTUDIOS SUP. UNIDAD MERIDA-Oferta=35-Minimos=42',\n",
       "       'Junio 2020 : (406)  DISEÑO GRAFICO-FES ACATLAN-Oferta=10-Minimos=101',\n",
       "       'Junio 2020 : (405)  DISEÑO Y COMUNICACION VISUAL-FACULTAD DE ARTES Y DISEÑO-Oferta=10-Minimos=109',\n",
       "       'Junio 2020 : (405)  DISEÑO Y COMUNICACION VISUAL-FES CUAUTITLAN-Oferta=8-Minimos=105',\n",
       "       'Junio 2020 : (407)  EDUCACION MUSICAL-FACULTAD DE MUSICA-Oferta=10-Minimos=50',\n",
       "       'Junio 2020 : (408)  ENSEÑANZA DE INGLES-FES ACATLAN-Oferta=21-Minimos=71',\n",
       "       'Junio 2020 : (409)  ESTUDIOS LATINOAMERICANOS-FACULTAD DE FILOSOFIA Y LETRAS-Oferta=16-Minimos=84',\n",
       "       'Junio 2020 : (410)  ETNOMUSICOLOGIA-FACULTAD DE MUSICA-Oferta=4-Minimos=62',\n",
       "       'Junio 2020 : (411)  FILOSOFIA-FACULTAD DE FILOSOFIA Y LETRAS-Oferta=20-Minimos=99',\n",
       "       'Junio 2020 : (411)  FILOSOFIA-FES ACATLAN-Oferta=30-Minimos=68',\n",
       "       'Junio 2020 : (431)  GEOHISTORIA-ESCUELA NAL. DE ESTUDIOS SUP. UNIDAD MORELIA-Oferta=16-Minimos=40',\n",
       "       'Junio 2020 : (412)  HISTORIA-FACULTAD DE FILOSOFIA Y LETRAS-Oferta=15-Minimos=100',\n",
       "       'Junio 2020 : (412)  HISTORIA-FES ACATLAN-Oferta=15-Minimos=85',\n",
       "       'Junio 2020 : (433)  HISTORIA DEL ARTE-ESCUELA NAL. DE ESTUDIOS SUP. UNIDAD MORELIA-Oferta=12-Minimos=72',\n",
       "       'Junio 2020 : (413)  INSTRUMENTISTA-FACULTAD DE MUSICA-Oferta=30-Minimos=40',\n",
       "       'Junio 2020 : (414)  LENGUA Y LITERATURAS HISPANICAS-FACULTAD DE FILOSOFIA Y LETRAS-Oferta=15-Minimos=98',\n",
       "       'Junio 2020 : (414)  LENGUA Y LITERATURAS HISPANICAS-FES ACATLAN-Oferta=18-Minimos=82',\n",
       "       'Junio 2020 : (415)  LENGUA Y LITERATURAS MODERNAS (LETRAS ALEMANAS)-FACULTAD DE FILOSOFIA Y LETRAS-Oferta=12-Minimos=51',\n",
       "       'Junio 2020 : (416)  LENGUA Y LITERATURAS MODERNAS (LETRAS FRANCESAS)-FACULTAD DE FILOSOFIA Y LETRAS-Oferta=16-Minimos=44',\n",
       "       'Junio 2020 : (417)  LENGUA Y LITERATURAS MODERNAS (LETRAS INGLESAS)-FACULTAD DE FILOSOFIA Y LETRAS-Oferta=38-Minimos=59',\n",
       "       'Junio 2020 : (418)  LENGUA Y LITERATURAS MODERNAS (LETRAS ITALIANAS)-FACULTAD DE FILOSOFIA Y LETRAS-Oferta=5-Minimos=73',\n",
       "       'Junio 2020 : (430)  LENGUA Y LITERATURAS MODERNAS (LETRAS PORTUGUESAS)-FACULTAD DE FILOSOFIA Y LETRAS-Oferta=8-Minimos=57',\n",
       "       'Junio 2020 : (419)  LETRAS CLASICAS-FACULTAD DE FILOSOFIA Y LETRAS-Oferta=8-Minimos=90',\n",
       "       'Junio 2020 : (439)  LINGÜISTICA APLICADA-ESCUELA NACIONAL DE LENGUAS,LINGUISTICA Y TRADUCCIÓN-Oferta=8-Minimos=97',\n",
       "       'Junio 2020 : (420)  LITERATURA DRAMATICA Y TEATRO-FACULTAD DE FILOSOFIA Y LETRAS-Oferta=12-Minimos=103',\n",
       "       'Junio 2020 : (432)  LITERATURA INTERCULTURAL-ESCUELA NAL. DE ESTUDIOS SUP. UNIDAD MORELIA-Oferta=12-Minimos=46',\n",
       "       'Junio 2020 : (438)  MUSICA Y TECNOLOGIA ARTISTICA-ESCUELA NAL. DE ESTUDIOS SUP. UNIDAD MORELIA-Oferta=5-Minimos=40',\n",
       "       'Junio 2020 : (421)  PEDAGOGIA-FACULTAD DE FILOSOFIA Y LETRAS-Oferta=70-Minimos=77',\n",
       "       'Junio 2020 : (421)  PEDAGOGIA-FES ACATLAN-Oferta=40-Minimos=73',\n",
       "       'Junio 2020 : (421)  PEDAGOGIA-FES ARAGON-Oferta=70-Minimos=76',\n",
       "       'Junio 2020 : (422)  PIANO-FACULTAD DE MUSICA-Oferta=12-Minimos=43',\n",
       "       'Junio 2020 : (440)  TRADUCCION-ESCUELA NACIONAL DE LENGUAS,LINGUISTICA Y TRADUCCIÓN-Oferta=5-Minimos=114',\n",
       "       'Junio 2020 : (440)  TRADUCCION-SAN MIGUEL DE ALLENDE, GUANAJUATO-Oferta=7-Minimos=40'],\n",
       "      dtype=object)"
      ]
     },
     "execution_count": 17,
     "metadata": {},
     "output_type": "execute_result"
    }
   ],
   "source": [
    "df.Program.unique()"
   ]
  },
  {
   "cell_type": "code",
   "execution_count": 18,
   "metadata": {},
   "outputs": [],
   "source": [
    "# Creating the columns\n",
    "df[\"Faculty\"] = df.apply(lambda x: x[\"Program\"].split(\"-\")[-3], axis = 1)\n",
    "df[\"ScoreMin\"] = df.apply(lambda x: x[\"Program\"].split(\"-\")[-1].split(\"=\")[-1], axis = 1)\n",
    "df[\"Code\"] = df.apply(lambda x: x[\"Program\"].split(\"-\")[0].split()[3].strip(\"()\"), axis = 1)\n",
    "df[\"Round\"] = df.apply(lambda x: x[\"Program\"].split(\":\")[0].split()[0], axis = 1)\n",
    "df[\"Year\"] = df.apply(lambda x: x[\"Program\"].split(\":\")[0].split()[1], axis = 1)\n",
    "df[\"Score\"] = df.apply(lambda x: x[\"Score\"].split(\"'\")[1], axis = 1).astype(\"f\")\n",
    "df[\"Program\"] = df.apply(lambda x: x[\"Program\"].split(\"-\")[0].split(\":\")[1], axis = 1)\n",
    "df[\"Program\"] = df.apply(lambda x: x[\"Program\"].split(\")\")[1:][0].strip(), axis = 1)\n",
    "#df[\"Program\"] = df.apply(lambda x: re.findall(\"  (.+)\",x[\"Program\"]), axis = 1)\n",
    "\n",
    "# Setting Types\n",
    "df[\"ScoreMin\"] = df[\"ScoreMin\"].astype(\"f\")\n",
    "df[\"Year\"] = df.Year.astype(\"int64\")\n",
    "df[\"Code\"] = df[\"Code\"].astype(\"int64\")\n",
    "# Replacing \"999.0\" for Nan values\n",
    "df.replace(999.0, np.nan, inplace = True)"
   ]
  },
  {
   "cell_type": "code",
   "execution_count": 19,
   "metadata": {},
   "outputs": [
    {
     "data": {
      "text/plain": [
       "array(['ACTUARIA', 'ARQUITECTURA', 'ARQUITECTURA DE PAISAJE',\n",
       "       'CIENCIA DE MATERIALES SUSTENTABLES', 'CIENCIAS DE LA COMPUTACION',\n",
       "       'CIENCIAS DE LA TIERRA', 'DISEÑO INDUSTRIAL', 'FISICA',\n",
       "       'FISICA BIOMEDICA', 'GEOCIENCIAS',\n",
       "       'ING. EN TELECOMUNICACIONES, SISTEMAS Y ELECTRONICA',\n",
       "       'INGENIERIA AMBIENTAL', 'INGENIERIA CIVIL',\n",
       "       'INGENIERIA DE MINAS Y METALURGIA',\n",
       "       'INGENIERIA ELECTRICA ELECTRONICA', 'INGENIERIA EN COMPUTACION',\n",
       "       'INGENIERIA GEOFISICA', 'INGENIERIA GEOLOGICA',\n",
       "       'INGENIERIA GEOMATICA', 'INGENIERIA INDUSTRIAL',\n",
       "       'INGENIERIA MECANICA', 'INGENIERIA MECANICA ELECTRICA',\n",
       "       'INGENIERIA PETROLERA', 'INGENIERIA QUIMICA',\n",
       "       'INGENIERIA QUIMICA METALURGICA', 'MATEMATICAS',\n",
       "       'MATEMATICAS APLICADAS', 'MATEMATICAS APLICADAS Y COMPUTACION',\n",
       "       'TECNOLOGIAS PARA LA INFORMACION EN CIENCIAS', 'URBANISMO',\n",
       "       'BIOLOGIA', 'BIOQUIMICA DIAGNOSTICA', 'CIENCIAS AGROFORESTALES',\n",
       "       'CIENCIAS AMBIENTALES', 'CIRUJANO DENTISTA', 'ENFERMERIA',\n",
       "       'ENFERMERIA Y OBSTETRICIA', 'FARMACIA', 'FISIOTERAPIA',\n",
       "       'INGENIERIA AGRICOLA', 'INGENIERIA EN ALIMENTOS',\n",
       "       'MANEJO SUSTENTABLE DE ZONAS COSTERAS',\n",
       "       'MEDICINA VETERINARIA Y ZOOTECNIA', 'MEDICO CIRUJANO',\n",
       "       'NUTRIOLOGIA', 'ODONTOLOGIA', 'OPTOMETRIA', 'PSICOLOGIA',\n",
       "       'QUIMICA', 'QUIMICA DE ALIMENTOS',\n",
       "       'QUIMICA FARMACEUTICO BIOLOGICA', 'QUIMICA INDUSTRIAL',\n",
       "       'ADMINISTRACION', 'ADMINISTRACION AGROPECUARIA', 'ANTROPOLOGIA',\n",
       "       'CIENCIAS DE LA COMUNICACION',\n",
       "       'CIENCIAS POLITICAS Y ADMON PUBLICA', 'COMUNICACION',\n",
       "       'COMUNICACION Y PERIODISMO', 'CONTADURIA', 'DERECHO',\n",
       "       'DESARROLLO COMUNITARIO PARA EL ENVEJECIMIENTO',\n",
       "       'DESARROLLO TERRITORIAL', 'ECONOMIA', 'ECONOMIA INDUSTRIAL',\n",
       "       'ESTUDIOS SOCIALES Y GESTION LOCAL', 'GEOGRAFIA',\n",
       "       'GEOGRAFIA APLICADA', 'INFORMATICA',\n",
       "       'PLANIF PARA EL DESARROLLO AGROPECUARIO',\n",
       "       'RELACIONES INTERNACIONALES', 'SOCIOLOGIA', 'TRABAJO SOCIAL',\n",
       "       'ADMINISTRACION DE ARCHIVOS Y GESTION DOCUMENTAL', 'ARTE Y DISEÑO',\n",
       "       'ARTES VISUALES', 'BIBLIOTECOLOGIA Y ESTUDIOS DE LA INFORMACION',\n",
       "       'CANTO', 'COMPOSICION', 'DESARROLLO Y GESTION INTERCULTURALES',\n",
       "       'DISEÑO GRAFICO', 'DISEÑO Y COMUNICACION VISUAL',\n",
       "       'EDUCACION MUSICAL', 'ENSEÑANZA DE INGLES',\n",
       "       'ESTUDIOS LATINOAMERICANOS', 'ETNOMUSICOLOGIA', 'FILOSOFIA',\n",
       "       'GEOHISTORIA', 'HISTORIA', 'HISTORIA DEL ARTE', 'INSTRUMENTISTA',\n",
       "       'LENGUA Y LITERATURAS HISPANICAS',\n",
       "       'LENGUA Y LITERATURAS MODERNAS (LETRAS ALEMANAS',\n",
       "       'LENGUA Y LITERATURAS MODERNAS (LETRAS FRANCESAS',\n",
       "       'LENGUA Y LITERATURAS MODERNAS (LETRAS INGLESAS',\n",
       "       'LENGUA Y LITERATURAS MODERNAS (LETRAS ITALIANAS',\n",
       "       'LENGUA Y LITERATURAS MODERNAS (LETRAS PORTUGUESAS',\n",
       "       'LETRAS CLASICAS', 'LINGÜISTICA APLICADA',\n",
       "       'LITERATURA DRAMATICA Y TEATRO', 'LITERATURA INTERCULTURAL',\n",
       "       'MUSICA Y TECNOLOGIA ARTISTICA', 'PEDAGOGIA', 'PIANO',\n",
       "       'TEATRO Y ACTUACION', 'TRADUCCION', 'INGENIERIA AEROESPACIAL'],\n",
       "      dtype=object)"
      ]
     },
     "execution_count": 19,
     "metadata": {},
     "output_type": "execute_result"
    }
   ],
   "source": [
    "df[\"Program\"].unique()"
   ]
  },
  {
   "cell_type": "code",
   "execution_count": 20,
   "metadata": {},
   "outputs": [],
   "source": [
    "df.replace({'LENGUA Y LITERATURAS MODERNAS (LETRAS ALEMANAS':'LENGUA Y LITERATURAS MODERNAS (LETRAS ALEMANAS)',\n",
    "           'LENGUA Y LITERATURAS MODERNAS (LETRAS FRANCESAS':'LENGUA Y LITERATURAS MODERNAS (LETRAS FRANCESAS)',\n",
    "           'LENGUA Y LITERATURAS MODERNAS (LETRAS INGLESAS':'LENGUA Y LITERATURAS MODERNAS (LETRAS INGLESAS)',\n",
    "           'LENGUA Y LITERATURAS MODERNAS (LETRAS ITALIANAS':'LENGUA Y LITERATURAS MODERNAS (LETRAS ITALIANAS)',\n",
    "           'LENGUA Y LITERATURAS MODERNAS (LETRAS PORTUGUESAS':'LENGUA Y LITERATURAS MODERNAS (LETRAS PORTUGUESAS)'}, inplace =True)"
   ]
  },
  {
   "cell_type": "code",
   "execution_count": 21,
   "metadata": {},
   "outputs": [],
   "source": [
    "df.to_csv(\"C-UNAMdata2020.csv\")"
   ]
  },
  {
   "cell_type": "code",
   "execution_count": 22,
   "metadata": {},
   "outputs": [
    {
     "data": {
      "text/plain": [
       "(218479, 8)"
      ]
     },
     "execution_count": 22,
     "metadata": {},
     "output_type": "execute_result"
    }
   ],
   "source": [
    "df.shape"
   ]
  },
  {
   "cell_type": "markdown",
   "metadata": {},
   "source": [
    "### ¿Cuántas personas faltaron al examen?"
   ]
  },
  {
   "cell_type": "code",
   "execution_count": 20,
   "metadata": {},
   "outputs": [
    {
     "data": {
      "text/plain": [
       "19701"
      ]
     },
     "execution_count": 20,
     "metadata": {},
     "output_type": "execute_result"
    }
   ],
   "source": [
    "faltaron = len(df[df.Score.isna()])\n",
    "faltaron"
   ]
  },
  {
   "cell_type": "markdown",
   "metadata": {},
   "source": [
    "### ¿Cuántas personas pasaron el examen?"
   ]
  },
  {
   "cell_type": "code",
   "execution_count": 86,
   "metadata": {},
   "outputs": [
    {
     "data": {
      "text/plain": [
       "14472"
      ]
     },
     "execution_count": 86,
     "metadata": {},
     "output_type": "execute_result"
    }
   ],
   "source": [
    "pasaron = len(df[df.Score>=df.ScoreMin])\n",
    "pasaron"
   ]
  },
  {
   "cell_type": "markdown",
   "metadata": {},
   "source": [
    "### ¿Tasa de aceptación  2020?"
   ]
  },
  {
   "cell_type": "code",
   "execution_count": 87,
   "metadata": {},
   "outputs": [
    {
     "data": {
      "text/plain": [
       "6.052773560521462"
      ]
     },
     "execution_count": 87,
     "metadata": {},
     "output_type": "execute_result"
    }
   ],
   "source": [
    "pasaron/len(df) * 100"
   ]
  },
  {
   "cell_type": "markdown",
   "metadata": {},
   "source": [
    "### ¿Calificación promedio?"
   ]
  },
  {
   "cell_type": "code",
   "execution_count": 88,
   "metadata": {},
   "outputs": [
    {
     "data": {
      "text/plain": [
       "55.43852996826172"
      ]
     },
     "execution_count": 88,
     "metadata": {},
     "output_type": "execute_result"
    }
   ],
   "source": [
    "df[\"Score\"].mean()"
   ]
  },
  {
   "cell_type": "markdown",
   "metadata": {},
   "source": [
    "### ¿Promedio calificación para Actuaría?"
   ]
  },
  {
   "cell_type": "code",
   "execution_count": 89,
   "metadata": {
    "scrolled": true
   },
   "outputs": [
    {
     "data": {
      "text/plain": [
       "65.34104919433594"
      ]
     },
     "execution_count": 89,
     "metadata": {},
     "output_type": "execute_result"
    }
   ],
   "source": [
    "df[df[\"Program\"] == \"ACTUARIA\"][\"Score\"].mean()"
   ]
  },
  {
   "cell_type": "markdown",
   "metadata": {},
   "source": [
    "### ¿Promedio general por Escuela? (Gráfica de barras)"
   ]
  },
  {
   "cell_type": "code",
   "execution_count": 54,
   "metadata": {},
   "outputs": [
    {
     "ename": "AttributeError",
     "evalue": "'Series' object has no attribute 'startswith'",
     "output_type": "error",
     "traceback": [
      "\u001b[1;31m---------------------------------------------------------------------------\u001b[0m",
      "\u001b[1;31mAttributeError\u001b[0m                            Traceback (most recent call last)",
      "\u001b[1;32m<ipython-input-54-cf657ef92d26>\u001b[0m in \u001b[0;36m<module>\u001b[1;34m\u001b[0m\n\u001b[1;32m----> 1\u001b[1;33m \u001b[0mCiencias\u001b[0m \u001b[1;33m=\u001b[0m \u001b[0mdf\u001b[0m\u001b[1;33m[\u001b[0m\u001b[0mdf\u001b[0m\u001b[1;33m[\u001b[0m\u001b[1;34m\"Carrera\"\u001b[0m\u001b[1;33m]\u001b[0m\u001b[1;33m.\u001b[0m\u001b[0mstartswith\u001b[0m\u001b[1;33m(\u001b[0m\u001b[1;34m\"(1\"\u001b[0m\u001b[1;33m)\u001b[0m\u001b[1;33m]\u001b[0m\u001b[1;33m\u001b[0m\u001b[1;33m\u001b[0m\u001b[0m\n\u001b[0m",
      "\u001b[1;32m~\\anaconda3\\lib\\site-packages\\pandas\\core\\generic.py\u001b[0m in \u001b[0;36m__getattr__\u001b[1;34m(self, name)\u001b[0m\n\u001b[0;32m   5272\u001b[0m             \u001b[1;32mif\u001b[0m \u001b[0mself\u001b[0m\u001b[1;33m.\u001b[0m\u001b[0m_info_axis\u001b[0m\u001b[1;33m.\u001b[0m\u001b[0m_can_hold_identifiers_and_holds_name\u001b[0m\u001b[1;33m(\u001b[0m\u001b[0mname\u001b[0m\u001b[1;33m)\u001b[0m\u001b[1;33m:\u001b[0m\u001b[1;33m\u001b[0m\u001b[1;33m\u001b[0m\u001b[0m\n\u001b[0;32m   5273\u001b[0m                 \u001b[1;32mreturn\u001b[0m \u001b[0mself\u001b[0m\u001b[1;33m[\u001b[0m\u001b[0mname\u001b[0m\u001b[1;33m]\u001b[0m\u001b[1;33m\u001b[0m\u001b[1;33m\u001b[0m\u001b[0m\n\u001b[1;32m-> 5274\u001b[1;33m             \u001b[1;32mreturn\u001b[0m \u001b[0mobject\u001b[0m\u001b[1;33m.\u001b[0m\u001b[0m__getattribute__\u001b[0m\u001b[1;33m(\u001b[0m\u001b[0mself\u001b[0m\u001b[1;33m,\u001b[0m \u001b[0mname\u001b[0m\u001b[1;33m)\u001b[0m\u001b[1;33m\u001b[0m\u001b[1;33m\u001b[0m\u001b[0m\n\u001b[0m\u001b[0;32m   5275\u001b[0m \u001b[1;33m\u001b[0m\u001b[0m\n\u001b[0;32m   5276\u001b[0m     \u001b[1;32mdef\u001b[0m \u001b[0m__setattr__\u001b[0m\u001b[1;33m(\u001b[0m\u001b[0mself\u001b[0m\u001b[1;33m,\u001b[0m \u001b[0mname\u001b[0m\u001b[1;33m:\u001b[0m \u001b[0mstr\u001b[0m\u001b[1;33m,\u001b[0m \u001b[0mvalue\u001b[0m\u001b[1;33m)\u001b[0m \u001b[1;33m->\u001b[0m \u001b[1;32mNone\u001b[0m\u001b[1;33m:\u001b[0m\u001b[1;33m\u001b[0m\u001b[1;33m\u001b[0m\u001b[0m\n",
      "\u001b[1;31mAttributeError\u001b[0m: 'Series' object has no attribute 'startswith'"
     ]
    }
   ],
   "source": [
    "Ciencias = df[df[\"Carrera\"].startswith(\"(1\")] #TODO"
   ]
  },
  {
   "cell_type": "markdown",
   "metadata": {},
   "source": [
    "### ¿Promedios por carrera en Escuela de Ciencias? (caja de bigotes)"
   ]
  },
  {
   "cell_type": "code",
   "execution_count": 44,
   "metadata": {},
   "outputs": [
    {
     "data": {
      "text/plain": [
       "'ahsbuibndwss'"
      ]
     },
     "execution_count": 44,
     "metadata": {},
     "output_type": "execute_result"
    }
   ],
   "source": [
    "x = [\"ahsbuibndw\",\"ss\"]\n",
    "x[0]+x[1]"
   ]
  },
  {
   "cell_type": "code",
   "execution_count": 59,
   "metadata": {},
   "outputs": [
    {
     "data": {
      "text/plain": [
       "'LENGUA Y LITERATURAS MODERNAS (LETRAS FRANCESAS)'"
      ]
     },
     "execution_count": 59,
     "metadata": {},
     "output_type": "execute_result"
    }
   ],
   "source": [
    "x = \"(416)  LENGUA Y LITERATURAS MODERNAS (LETRAS FRANCESAS)\"\n",
    "r = re.findall(\"  (.+)\",x)[0]\n",
    "r"
   ]
  },
  {
   "cell_type": "code",
   "execution_count": 1,
   "metadata": {},
   "outputs": [],
   "source": [
    "def gg(x):\n",
    "    return x"
   ]
  },
  {
   "cell_type": "code",
   "execution_count": 4,
   "metadata": {},
   "outputs": [
    {
     "data": {
      "text/plain": [
       "5"
      ]
     },
     "execution_count": 4,
     "metadata": {},
     "output_type": "execute_result"
    }
   ],
   "source": [
    "gg(5)"
   ]
  },
  {
   "cell_type": "code",
   "execution_count": null,
   "metadata": {},
   "outputs": [],
   "source": []
  }
 ],
 "metadata": {
  "kernelspec": {
   "display_name": "Python 3",
   "language": "python",
   "name": "python3"
  },
  "language_info": {
   "codemirror_mode": {
    "name": "ipython",
    "version": 3
   },
   "file_extension": ".py",
   "mimetype": "text/x-python",
   "name": "python",
   "nbconvert_exporter": "python",
   "pygments_lexer": "ipython3",
   "version": "3.7.7"
  }
 },
 "nbformat": 4,
 "nbformat_minor": 4
}
